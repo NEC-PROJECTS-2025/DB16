{
  "nbformat": 4,
  "nbformat_minor": 0,
  "metadata": {
    "colab": {
      "provenance": [],
      "gpuType": "T4"
    },
    "kernelspec": {
      "name": "python3",
      "display_name": "Python 3"
    },
    "language_info": {
      "name": "python"
    },
    "accelerator": "GPU"
  },
  "cells": [
    {
      "cell_type": "code",
      "source": [
        " # prompt: mount drive\n",
        "\n",
        "from google.colab import drive\n",
        "drive.mount('/content/drive')\n"
      ],
      "metadata": {
        "colab": {
          "base_uri": "https://localhost:8080/"
        },
        "id": "mDrji-lmUFWW",
        "outputId": "3b419b3f-0e0e-4aa9-d3b1-0728b39ea6c3"
      },
      "execution_count": null,
      "outputs": [
        {
          "output_type": "stream",
          "name": "stdout",
          "text": [
            "Mounted at /content/drive\n"
          ]
        }
      ]
    },
    {
      "cell_type": "code",
      "source": [
        "from tensorflow.keras.models import Sequential\n",
        "from tensorflow.keras.layers import Dense\n",
        "\n",
        "# Dummy model for demonstration\n",
        "model = Sequential([Dense(10, input_shape=(100,)), Dense(1)])\n",
        "\n",
        "# Save as .h5\n",
        "model.save(\"C:/Users/shaik/OneDrive/Desktop/Fruit/jaleel_fixed.h5\")\n",
        "\n",
        "# Test loading the re-saved model\n",
        "from tensorflow.keras.models import load_model\n",
        "model = load_model(\"C:/Users/shaik/OneDrive/Desktop/Fruit/jaleel_fixed.h5\")\n",
        "print(\"Model loaded successfully!\")\n"
      ],
      "metadata": {
        "colab": {
          "base_uri": "https://localhost:8080/"
        },
        "id": "HvnSMetEcvnC",
        "outputId": "e47fdc5b-dc00-4581-b2bc-238755fcf785"
      },
      "execution_count": null,
      "outputs": [
        {
          "output_type": "stream",
          "name": "stderr",
          "text": [
            "/usr/local/lib/python3.10/dist-packages/keras/src/layers/core/dense.py:87: UserWarning: Do not pass an `input_shape`/`input_dim` argument to a layer. When using Sequential models, prefer using an `Input(shape)` object as the first layer in the model instead.\n",
            "  super().__init__(activity_regularizer=activity_regularizer, **kwargs)\n",
            "WARNING:absl:You are saving your model as an HDF5 file via `model.save()` or `keras.saving.save_model(model)`. This file format is considered legacy. We recommend using instead the native Keras format, e.g. `model.save('my_model.keras')` or `keras.saving.save_model(model, 'my_model.keras')`. \n",
            "WARNING:absl:No training configuration found in the save file, so the model was *not* compiled. Compile it manually.\n"
          ]
        },
        {
          "output_type": "stream",
          "name": "stdout",
          "text": [
            "Model loaded successfully!\n"
          ]
        }
      ]
    },
    {
      "cell_type": "markdown",
      "source": [
        "Data Acquisition"
      ],
      "metadata": {
        "id": "wryboq_jxHZl"
      }
    },
    {
      "cell_type": "code",
      "source": [
        "# prompt: load  images in  dataset directory\n",
        "\n",
        "import os\n",
        "import cv2\n",
        "import numpy as np\n",
        "\n",
        "# Replace with your actual dataset directory\n",
        "dataset_dir = \"/content/drive/MyDrive/Dataset\"\n",
        "\n",
        "images = []\n",
        "labels = []\n",
        "\n",
        "# Iterate through subdirectories (assuming each subdirectory represents a class)\n",
        "for class_name in os.listdir(dataset_dir):\n",
        "  class_dir = os.path.join(dataset_dir, class_name)\n",
        "  if os.path.isdir(class_dir):\n",
        "    for image_name in os.listdir(class_dir):\n",
        "      image_path = os.path.join(class_dir, image_name)\n",
        "      try:\n",
        "          # Load image using OpenCV\n",
        "          img = cv2.imread(image_path)\n",
        "          if img is not None:\n",
        "              # Resize or preprocess the image as needed\n",
        "              img = cv2.resize(img, (224, 224)) # Example resize\n",
        "              images.append(img)\n",
        "              labels.append(class_name) # Use the directory name as label\n",
        "          else:\n",
        "              print(f\"Could not read image: {image_path}\")\n",
        "      except Exception as e:\n",
        "          print(f\"Error processing image {image_path}: {e}\")\n",
        "\n",
        "\n",
        "# Convert lists to NumPy arrays\n",
        "images = np.array(images)\n",
        "labels = np.array(labels)\n",
        "\n",
        "print(\"Number of images loaded:\", len(images))\n",
        "print(\"Number of labels loaded:\", len(labels))\n",
        "\n",
        "# You can further process and split the data into training and testing sets here\n",
        "# Example:\n",
        "# from sklearn.model_selection import train_test_split\n",
        "# X_train, X_test, y_train, y_test = train_test_split(images, labels, test_size=0.2, random_state=42)"
      ],
      "metadata": {
        "id": "OxD_pmTeULHo",
        "colab": {
          "base_uri": "https://localhost:8080/"
        },
        "outputId": "2a152891-b6c5-4576-c538-9f5b61c04421"
      },
      "execution_count": null,
      "outputs": [
        {
          "output_type": "stream",
          "name": "stdout",
          "text": [
            "Could not read image: /content/drive/MyDrive/Dataset/Apple___Apple_scab/train\n",
            "Could not read image: /content/drive/MyDrive/Dataset/Apple___Apple_scab/test\n",
            "Number of images loaded: 19519\n",
            "Number of labels loaded: 19519\n"
          ]
        }
      ]
    },
    {
      "cell_type": "markdown",
      "source": [
        "Image Contrast Enhancement:"
      ],
      "metadata": {
        "id": "ar88nr8nxXa-"
      }
    },
    {
      "cell_type": "code",
      "source": [
        "# prompt: Image Contrast Enhancement:\n",
        "\n",
        "import cv2\n",
        "import numpy as np\n",
        "from google.colab.patches import cv2_imshow\n",
        "import os\n",
        "\n",
        "def enhance_contrast(image_path, alpha=1.5, beta=0):\n",
        "  \"\"\"\n",
        "  Enhances the contrast of an image.\n",
        "\n",
        "  Args:\n",
        "    image_path: Path to the image file.\n",
        "    alpha: Contrast control (default 1.5).\n",
        "    beta: Brightness control (default 0).\n",
        "\n",
        "  Returns:\n",
        "    The contrast-enhanced image.\n",
        "  \"\"\"\n",
        "  img = cv2.imread(image_path)\n",
        "  # Check if the image was loaded correctly\n",
        "  if img is None:\n",
        "    print(f\"Error: Could not load image from {image_path}\")\n",
        "    return None\n",
        "  new_image = cv2.convertScaleAbs(img, alpha=alpha, beta=beta)\n",
        "  return new_image\n",
        "\n",
        "# Example usage:\n",
        "# Make sure 'your_image.jpg' exists in the directory\n",
        "#The data_dir variable was not defined. Set to the intended value.\n",
        "data_dir = '/content/drive/MyDrive/Dataset'\n",
        "image_path = os.path.join(data_dir, '/content/drive/MyDrive/Dataset/Grape___Black_rot/00090b0f-c140-4e77-8d20-d39f67b75fcc___FAM_B.Rot 0376.JPG')  # Replace 'your_image.jpg' with an actual image file name\n",
        "enhanced_image = enhance_contrast(image_path)\n",
        "\n",
        "# Check if image was enhanced\n",
        "if enhanced_image is not None:\n",
        "  cv2_imshow(enhanced_image)"
      ],
      "metadata": {
        "colab": {
          "base_uri": "https://localhost:8080/",
          "height": 273
        },
        "id": "HsBfpnDDUbvY",
        "outputId": "691241b0-434b-4e89-f77f-2d2588f116a8"
      },
      "execution_count": null,
      "outputs": [
        {
          "output_type": "display_data",
          "data": {
            "text/plain": [
              "<PIL.Image.Image image mode=RGB size=256x256>"
            ],
            "image/png": "[encoded data removed]",
            "image/jpeg": "[encoded data removed]"
          },
          "metadata": {}
        }
      ]
    },
    {
      "cell_type": "code",
      "source": [
        "# prompt: Hybrid Contrast Enhancement Technique:\n",
        "\n",
        "import cv2\n",
        "import numpy as np\n",
        "from google.colab.patches import cv2_imshow\n",
        "\n",
        "\n",
        "def hybrid_contrast_enhancement(image_path, alpha=1.5, beta=0, clip_limit=2.0, tile_grid_size=(8, 8)):\n",
        "  \"\"\"\n",
        "  Enhances contrast using a hybrid approach: Adaptive Histogram Equalization (AHE) and contrast stretching.\n",
        "\n",
        "  Args:\n",
        "    image_path: Path to the image file.\n",
        "    alpha: Contrast control for contrast stretching (default 1.5).\n",
        "    beta: Brightness control for contrast stretching (default 0).\n",
        "    clip_limit: Clipping limit for AHE (default 2.0).\n",
        "    tile_grid_size: Grid size for AHE (default (8, 8)).\n",
        "\n",
        "  Returns:\n",
        "    The contrast-enhanced image.\n",
        "  \"\"\"\n",
        "  img = cv2.imread(image_path)\n",
        "  if img is None:\n",
        "    print(f\"Error: Could not load image from {image_path}\")\n",
        "    return None\n",
        "\n",
        "  # Convert to LAB color space\n",
        "  lab = cv2.cvtColor(img, cv2.COLOR_BGR2LAB)\n",
        "\n",
        "  # Split channels\n",
        "  l, a, b = cv2.split(lab)\n",
        "\n",
        "  # Apply CLAHE to L channel\n",
        "  clahe = cv2.createCLAHE(clipLimit=clip_limit, tileGridSize=tile_grid_size)\n",
        "  cl = clahe.apply(l)\n",
        "\n",
        "  # Merge channels\n",
        "  limg = cv2.merge((cl, a, b))\n",
        "\n",
        "  # Convert back to BGR\n",
        "  enhanced_image = cv2.cvtColor(limg, cv2.COLOR_LAB2BGR)\n",
        "\n",
        "  # Apply contrast stretching\n",
        "  enhanced_image = cv2.convertScaleAbs(enhanced_image, alpha=alpha, beta=beta)\n",
        "\n",
        "  return enhanced_image\n",
        "\n",
        "# Example usage:\n",
        "# Added file name to the path\n",
        "image_path = '/content/drive/MyDrive/Dataset/Grape___Leaf_blight_(Isariopsis_Leaf_Spot) (2)/00a962ad-573b-44b1-97ae-912a6bd6e0b0___FAM_L.Blight 1431.JPG'\n",
        "enhanced_image = hybrid_contrast_enhancement(image_path)\n",
        "\n",
        "if enhanced_image is not None:\n",
        "  cv2_imshow(enhanced_image)"
      ],
      "metadata": {
        "colab": {
          "base_uri": "https://localhost:8080/",
          "height": 273
        },
        "id": "NcjT2BARU_Cz",
        "outputId": "4629037b-e055-4d0e-90c3-fae58e2f68fd"
      },
      "execution_count": null,
      "outputs": [
        {
          "output_type": "display_data",
          "data": {
            "text/plain": [
              "<PIL.Image.Image image mode=RGB size=256x256>"
            ],
            "image/png": "[encoded data removed]",
            "image/jpeg": "[encoded data removed]"
          },
          "metadata": {}
        }
      ]
    },
    {
      "cell_type": "markdown",
      "source": [
        "Data Augmentation"
      ],
      "metadata": {
        "id": "AADJXbqIxwPE"
      }
    },
    {
      "cell_type": "code",
      "source": [
        "# prompt: Data Augmentation:\n",
        "# To increase the size and diversity of the dataset, apply various augmentation techniques:\n",
        "\n",
        "from tensorflow.keras.preprocessing.image import ImageDataGenerator\n",
        "import os\n",
        "import cv2 #Make sure cv2 is imported\n",
        "\n",
        "# Define the data augmentation parameters\n",
        "datagen = ImageDataGenerator(\n",
        "    rotation_range=20,\n",
        "    width_shift_range=0.2,\n",
        "    height_shift_range=0.2,\n",
        "    shear_range=0.2,\n",
        "    zoom_range=0.2,\n",
        "    horizontal_flip=True,\n",
        "    fill_mode='nearest'\n",
        ")\n",
        "\n",
        "# Load an image to demonstrate augmentation\n",
        "# Ensure the image exists and the path is correct\n",
        "image_path = '/content/drive/MyDrive/Dataset/Apple___multiple_diseases (1)/0090d05d-d797-4c99-abd4-3b9cb323a5fd___JR_FrgE.S 8727.JPG'\n",
        "img = cv2.imread(image_path)\n",
        "\n",
        "# Check if the image was loaded correctly\n",
        "if img is None:\n",
        "  print(f\"Error: Could not load image from {image_path}\")\n",
        "else:\n",
        "  x = img.reshape((1,) + img.shape)\n",
        "\n",
        "  # Create the directory if it doesn't exist\n",
        "  save_dir = '/content/drive/MyDrive/Dataset'\n",
        "  if not os.path.exists(save_dir):\n",
        "      os.makedirs(save_dir)\n",
        "\n",
        "  # Generate augmented images\n",
        "  i = 0\n",
        "  for batch in datagen.flow(x, batch_size=1, save_to_dir=save_dir, save_prefix='aug', save_format='JPG'):\n",
        "      i += 1\n",
        "      if i > 20:\n",
        "          break"
      ],
      "metadata": {
        "id": "rRNwzZTfVJvk"
      },
      "execution_count": null,
      "outputs": []
    },
    {
      "cell_type": "code",
      "source": [
        "# prompt: Horizontal Flipping: Flip the images horizontally to create mirror images.\n",
        "\n",
        "# Define the data augmentation parameters with horizontal flip\n",
        "datagen = ImageDataGenerator(\n",
        "    horizontal_flip=True,\n",
        "    fill_mode='nearest'\n",
        ")\n"
      ],
      "metadata": {
        "id": "7XuY40HeVaws"
      },
      "execution_count": null,
      "outputs": []
    },
    {
      "cell_type": "code",
      "source": [
        "# prompt: Vertical Flipping: Flip the images vertically. and print\n",
        "\n",
        "# Load an image to demonstrate augmentation\n",
        "# Ensure the image exists and the path is correct\n",
        "image_path = '/content/drive/MyDrive/Dataset/Apple___multiple_diseases (1)/02186b4f-a9e1-4d19-ae3d-6cfb0f4b106a___JR_FrgE.S 2828.JPG'\n",
        "img = cv2.imread(image_path)\n",
        "\n",
        "# Check if the image was loaded correctly\n",
        "if img is None:\n",
        "  print(f\"Error: Could not load image from {image_path}\")\n",
        "else:\n",
        "  x = img.reshape((1,) + img.shape)\n",
        "\n",
        "  # Create the directory if it doesn't exist\n",
        "  save_dir = '/content/drive/MyDrive/Dataset'\n",
        "  if not os.path.exists(save_dir):\n",
        "      os.makedirs(save_dir)\n",
        "\n",
        "  # Generate augmented images with vertical flip\n",
        "  i = 0\n",
        "  for batch in datagen.flow(x, batch_size=1, save_to_dir=save_dir, save_prefix='aug_vertical', save_format='JPG'):\n",
        "      i += 1\n",
        "      if i > 20:\n",
        "          break"
      ],
      "metadata": {
        "id": "cyrl3ye5Vh16"
      },
      "execution_count": null,
      "outputs": []
    },
    {
      "cell_type": "code",
      "source": [
        "# Define the data augmentation parameters with cropping\n",
        "datagen = ImageDataGenerator(\n",
        "    width_shift_range=0.2,\n",
        "    height_shift_range=0.2,\n",
        "    fill_mode='nearest'\n",
        ")\n",
        "\n",
        "# Load an image to demonstrate augmentation\n",
        "img = cv2.imread(image_path)\n",
        "\n",
        "if img is None:\n",
        "  print(f\"Error: Could not load image from {image_path}\")\n",
        "else:\n",
        "  x = img.reshape((1,) + img.shape)\n",
        "\n",
        "  # Create the directory if it doesn't exist\n",
        "  save_dir = '/content/drive/MyDrive/Dataset'  # Set save_dir to a valid directory\n",
        "  if not os.path.exists(save_dir):\n",
        "      os.makedirs(save_dir)\n",
        "\n",
        "  # Generate augmented images with cropping\n",
        "  i = 0\n",
        "  for batch in datagen.flow(x, batch_size=1, save_to_dir=save_dir, save_prefix='aug_cropping', save_format='JPG'):\n",
        "      i += 1\n",
        "      if i > 20:\n",
        "          break"
      ],
      "metadata": {
        "id": "2SPMwgVhUtrh"
      },
      "execution_count": null,
      "outputs": []
    },
    {
      "cell_type": "markdown",
      "source": [
        "Normalization"
      ],
      "metadata": {
        "id": "-dyFNhIUx4R2"
      }
    },
    {
      "cell_type": "code",
      "source": [
        "# prompt: Normalization:\n",
        "# Normalize the pixel values of the images to a range suitable for the deep learning model (e.g., scaling pixel values to the range [0, 1] or [-1, 1]). This helps in speeding up the convergence of the training process.\n",
        "\n",
        "from tensorflow.keras.preprocessing.image import ImageDataGenerator\n",
        "import cv2\n",
        "import os\n",
        "\n",
        "# Define the data augmentation parameters with normalization\n",
        "datagen = ImageDataGenerator(\n",
        "    rescale=1./255  # Scale pixel values to [0, 1]\n",
        "    # or\n",
        "    # samplewise_center=True,  # Subtract the mean of each image\n",
        "    # samplewise_std_normalization=True  # Divide by the standard deviation of each image\n",
        ")\n",
        "\n",
        "# Load an image to demonstrate normalization\n",
        "#Make sure the path is correct and the image exists at the specified location\n",
        "image_path = '/content/drive/MyDrive/Dataset/Apple___Cedar_apple_rust (1)/04da297e-5238-41b1-a8a0-0c87c6c2f21f___FREC_C.Rust 4394.JPG'\n",
        "img = cv2.imread(image_path)\n",
        "\n",
        "# Check if the image was loaded correctly\n",
        "if img is None:\n",
        "  print(f\"Error: Could not load image from {image_path}\")\n",
        "else:\n",
        "  x = img.reshape((1,) + img.shape)\n",
        "\n",
        "  # Create the directory if it doesn't exist\n",
        "  save_dir = '/content/drive/MyDrive/Dataset'\n",
        "  if not os.path.exists(save_dir):\n",
        "      os.makedirs(save_dir)\n",
        "\n",
        "  # Generate normalized images\n",
        "  i = 0\n",
        "  for batch in datagen.flow(x, batch_size=1, save_to_dir=save_dir, save_prefix='aug_normalized', save_format='JPG'):\n",
        "      i += 1\n",
        "      if i > 20:\n",
        "          break"
      ],
      "metadata": {
        "id": "nMLK8-ykVwfi"
      },
      "execution_count": null,
      "outputs": []
    },
    {
      "cell_type": "markdown",
      "source": [
        "Resizing\n"
      ],
      "metadata": {
        "id": "dU6_AXPvFdeK"
      }
    },
    {
      "cell_type": "code",
      "source": [
        "# prompt: Resizing:\n",
        "# Resize the images to the required input dimensions of the deep learning model (e.g., 299 × 299 pixels for Inception-ResNet-V2). This ensures that all input images are of uniform size.\n",
        "\n",
        "from PIL import Image\n",
        "\n",
        "def resize_images(data_dir, target_size=(256, 256)):\n",
        "  \"\"\"\n",
        "  Resizes images in a directory to a specified target size.\n",
        "\n",
        "  Args:\n",
        "    data_dir: Path to the directory containing images.\n",
        "    target_size: Tuple specifying the desired width and height (e.g., (299, 299)).\n",
        "  \"\"\"\n",
        "  for filename in os.listdir(data_dir):\n",
        "    if filename.endswith(('.JPG', '.jpeg', '.png')):\n",
        "      image_path = os.path.join(data_dir, filename)\n",
        "      try:\n",
        "        img = Image.open(image_path)\n",
        "        img = img.resize(target_size)\n",
        "        img.save(image_path)  # Overwrite the original image with the resized one\n",
        "      except Exception as e:\n",
        "        print(f\"Error resizing image {filename}: {e}\")\n",
        "\n",
        "# Example usage:\n",
        "resize_images(data_dir, target_size=(256, 256))\n"
      ],
      "metadata": {
        "id": "Dnl2lssGV36b"
      },
      "execution_count": null,
      "outputs": []
    },
    {
      "cell_type": "markdown",
      "source": [
        "Splitting the dataset"
      ],
      "metadata": {
        "id": "A1vWunByFhyi"
      }
    },
    {
      "cell_type": "code",
      "source": [
        "# prompt: Splitting the Dataset:\n",
        "# Divide the dataset into training and testing sets, typically using a 50:50 split. This allows for proper evaluation of the model's performance on unseen data.\n",
        "\n",
        "import os\n",
        "import shutil\n",
        "import random\n",
        "\n",
        "def split_dataset(data_dir, train_ratio=0.5):\n",
        "  \"\"\"\n",
        "  Splits the dataset into training and testing sets.\n",
        "\n",
        "  Args:\n",
        "    data_dir: Path to the directory containing images.\n",
        "    train_ratio: Ratio of data to be used for training (default 0.5).\n",
        "  \"\"\"\n",
        "  # Create train and test directories\n",
        "  train_dir = os.path.join(data_dir, 'train')\n",
        "  test_dir = os.path.join(data_dir, 'test')\n",
        "  os.makedirs(train_dir, exist_ok=True)\n",
        "  os.makedirs(test_dir, exist_ok=True)\n",
        "\n",
        "  # Get all image files\n",
        "  image_files = [f for f in os.listdir(data_dir) if f.endswith(('.JPG', '.jpeg', '.png'))]\n",
        "\n",
        "  # Shuffle the files randomly\n",
        "  random.shuffle(image_files)\n",
        "\n",
        "  # Calculate split index\n",
        "  split_index = int(len(image_files) * train_ratio)\n",
        "\n",
        "  # Split the files into train and test sets\n",
        "  train_files = image_files[:split_index]\n",
        "  test_files = image_files[split_index:]\n",
        "\n",
        "  # Move files to respective directories\n",
        "  for file in train_files:\n",
        "    src_path = os.path.join(data_dir, file)\n",
        "    dest_path = os.path.join(train_dir, file)\n",
        "    shutil.move(src_path, dest_path)\n",
        "\n",
        "  for file in test_files:\n",
        "    src_path = os.path.join(data_dir, file)\n",
        "    dest_path = os.path.join(test_dir, file)\n",
        "    shutil.move(src_path, dest_path)\n",
        "\n",
        "# Example usage:\n",
        "split_dataset(data_dir, train_ratio=0.5)\n"
      ],
      "metadata": {
        "id": "oZ734zl3WCPU"
      },
      "execution_count": null,
      "outputs": []
    },
    {
      "cell_type": "markdown",
      "source": [
        "Data Cleaning"
      ],
      "metadata": {
        "id": "tLC4T8YSFnbJ"
      }
    },
    {
      "cell_type": "code",
      "source": [
        "# prompt: Data Cleaning:\n",
        "# Remove any corrupted images or irrelevant data that may not contribute to the training process.\n",
        "\n",
        "import os\n",
        "from PIL import Image\n",
        "\n",
        "def remove_corrupted_images(data_dir):\n",
        "  \"\"\"\n",
        "  Removes corrupted images from a directory.\n",
        "\n",
        "  Args:\n",
        "    data_dir: Path to the directory containing images.\n",
        "  \"\"\"\n",
        "  for filename in os.listdir(data_dir):\n",
        "    if filename.endswith(('.JPG', '.jpeg', '.png')):\n",
        "      image_path = os.path.join(data_dir, filename)\n",
        "      try:\n",
        "        img = Image.open(image_path)\n",
        "        img.verify()  # Verify if the image is corrupted\n",
        "      except (IOError, Exception) as e:\n",
        "        print(f\"Removing corrupted image: {filename}\")\n",
        "        os.remove(image_path)\n",
        "\n",
        "# Example usage:\n",
        "remove_corrupted_images(data_dir)\n"
      ],
      "metadata": {
        "id": "Ktwbvnk_WHNs"
      },
      "execution_count": null,
      "outputs": []
    },
    {
      "cell_type": "code",
      "source": [
        "# prompt: By following these preprocessing steps, the dataset will be well-prepared for training the deep learning model, leading to improved accuracy and performance in recognizing fruit diseases\n",
        "\n",
        "# Assuming the necessary libraries and functions are defined in the preceding code.\n",
        "\n",
        "# 1. Remove corrupted images\n",
        "remove_corrupted_images(data_dir)\n",
        "\n",
        "# 2. Resize images\n",
        "resize_images(data_dir, target_size=(299, 299))  # Adjust target size as needed\n",
        "\n",
        "# 3. Split dataset into training and testing sets\n",
        "split_dataset(data_dir, train_ratio=0.8)  # Adjust train_ratio as needed\n",
        "\n",
        "# 4. Enhance contrast (optional, but can improve image quality)\n",
        "# Iterate through the images and apply contrast enhancement\n",
        "for filename in os.listdir(data_dir):\n",
        "  if filename.endswith(('.JPG', '.jpeg', '.png')):\n",
        "    image_path = os.path.join(data_dir, filename)\n",
        "    enhanced_image = hybrid_contrast_enhancement(image_path)\n",
        "    if enhanced_image is not None:\n",
        "      cv2.imwrite(image_path, enhanced_image)\n",
        "\n",
        "# 5. Data augmentation (optional, but can increase dataset size and improve model generalization)\n",
        "# Example: Augment images in the training directory\n",
        "train_dir = os.path.join(data_dir, 'train')\n",
        "for filename in os.listdir(train_dir):\n",
        "  if filename.endswith(('.JPG', '.jpeg', '.png')):\n",
        "    image_path = os.path.join(train_dir, filename)\n",
        "    img = cv2.imread(image_path)\n",
        "    x = img.reshape((1,) + img.shape)\n",
        "    # Apply data augmentation using datagen (defined in the preceding code)\n",
        "    i = 0\n",
        "    for batch in datagen.flow(x, batch_size=1, save_to_dir=train_dir, save_prefix='aug', save_format='JPG'):\n",
        "      i += 1\n",
        "      if i > 5:  # Generate 5 augmented images per original image\n",
        "        break\n"
      ],
      "metadata": {
        "id": "U1xh-n_AWRcg"
      },
      "execution_count": null,
      "outputs": []
    },
    {
      "cell_type": "code",
      "source": [
        "# prompt: Splitting Strategy:\n",
        "# A common approach is to split the dataset into two main subsets: training and testing. In this project, a typical split ratio of 50:50 is used, meaning that half of the data is used for training the model, and the other half is reserved for testing its performance.\n",
        "\n",
        "def split_dataset(data_dir, train_ratio=0.5):\n",
        "  \"\"\"\n",
        "  Splits the dataset into training and testing sets.\n",
        "\n",
        "  Args:\n",
        "    data_dir: Path to the directory containing images.\n",
        "    train_ratio: Ratio of data to be used for training (default 0.5).\n",
        "  \"\"\"\n",
        "  # Create train and test directories\n",
        "  train_dir = os.path.join(data_dir, 'train')\n",
        "  test_dir = os.path.join(data_dir, 'test')\n",
        "  os.makedirs(train_dir, exist_ok=True)\n",
        "  os.makedirs(test_dir, exist_ok=True)\n",
        "\n",
        "  # Get all image files\n",
        "  image_files = [f for f in os.listdir(data_dir) if f.endswith(('.JPG', '.jpeg', '.png'))]\n",
        "\n",
        "  # Shuffle the files randomly\n",
        "  random.shuffle(image_files)\n",
        "\n",
        "  # Calculate split index\n",
        "  split_index = int(len(image_files) * train_ratio)\n",
        "\n",
        "  # Split the files into train and test sets\n",
        "  train_files = image_files[:split_index]\n",
        "  test_files = image_files[split_index:]\n",
        "\n",
        "  # Move files to respective directories\n",
        "  for file in train_files:\n",
        "    src_path = os.path.join(data_dir, file)\n",
        "    dest_path = os.path.join(train_dir, file)\n",
        "    shutil.move(src_path, dest_path)\n",
        "\n",
        "  for file in test_files:\n",
        "    src_path = os.path.join(data_dir, file)\n",
        "    dest_path = os.path.join(test_dir, file)\n",
        "    shutil.move(src_path, dest_path)\n",
        "\n",
        "# Example usage:\n",
        "split_dataset(data_dir, train_ratio=0.5)\n"
      ],
      "metadata": {
        "id": "c-7qdPc-Y8OL"
      },
      "execution_count": null,
      "outputs": []
    },
    {
      "cell_type": "code",
      "source": [
        "# prompt: Random Sampling: Randomly select images from the dataset to ensure that both the training and testing sets are representative of the overall dataset. This helps in avoiding bias in the model evaluation.\n",
        "\n",
        "import random\n",
        "\n",
        "def random_sampling(data_dir, sample_size=100):\n",
        "  \"\"\"\n",
        "  Randomly samples images from a directory.\n",
        "\n",
        "  Args:\n",
        "    data_dir: Path to the directory containing images.\n",
        "    sample_size: Number of images to sample (default 100).\n",
        "  \"\"\"\n",
        "  # Get all image files\n",
        "  image_files = [f for f in os.listdir(data_dir) if f.endswith(('.JPG', '.jpeg', '.png'))]\n",
        "\n",
        "  # Randomly select images\n",
        "  sampled_files = random.sample(image_files, min(sample_size, len(image_files)))\n",
        "\n",
        "  # Return the sampled files\n",
        "  return sampled_files\n",
        "\n",
        "# Example usage:\n",
        "train_dir = os.path.join(data_dir, '/content/drive/MyDrive/Dataset/train')\n",
        "test_dir = os.path.join(data_dir, '/content/drive/MyDrive/Dataset/test')\n",
        "\n",
        "# Sample 100 images from the training set\n",
        "sampled_train_files = random_sampling(train_dir, sample_size=100)\n",
        "\n",
        "# Sample 50 images from the testing set\n",
        "sampled_test_files = random_sampling(test_dir, sample_size=50)\n",
        "\n",
        "print(f\"Sampled {len(sampled_train_files)} images from the training set.\")\n",
        "print(f\"Sampled {len(sampled_test_files)} images from the testing set.\")\n"
      ],
      "metadata": {
        "colab": {
          "base_uri": "https://localhost:8080/"
        },
        "id": "jQ7_K5fSZLX9",
        "outputId": "4808c357-b1b1-4ecb-fec3-adab9cc4a802"
      },
      "execution_count": null,
      "outputs": [
        {
          "output_type": "stream",
          "name": "stdout",
          "text": [
            "Sampled 100 images from the training set.\n",
            "Sampled 50 images from the testing set.\n"
          ]
        }
      ]
    },
    {
      "cell_type": "code",
      "source": [
        "from sklearn.model_selection import train_test_split\n",
        "\n",
        "def stratified_sampling(data_dir, train_ratio=0.8):\n",
        "  \"\"\"\n",
        "  Performs stratified sampling to split the dataset into training and testing sets.\n",
        "\n",
        "  Args:\n",
        "    data_dir: Path to the directory containing images.\n",
        "    train_ratio: Ratio of data to be used for training (default 0.8).\n",
        "  \"\"\"\n",
        "  # Get all image files and their corresponding labels\n",
        "  image_files = []\n",
        "  labels = []\n",
        "  for filename in os.listdir(data_dir):\n",
        "    if filename.endswith(('.JPG', '.jpeg', '.png')):\n",
        "      image_files.append(filename)\n",
        "      # Extract label from filename (assuming filename format: 'class_name___image.jpg')\n",
        "      label = filename.split('___')[0]  # Adjust this based on your filename format\n",
        "      labels.append(label)\n",
        "\n",
        "  # Check if labels were extracted correctly\n",
        "  if not labels:\n",
        "    print(\"No labels extracted. Check filename format and splitting logic.\")\n",
        "    return\n",
        "\n",
        "  # Split the data into training and testing sets using stratified sampling\n",
        "  train_files, test_files, _, _ = train_test_split(\n",
        "      image_files,\n",
        "      labels,\n",
        "      test_size=1 - train_ratio,\n",
        "      stratify=labels,\n",
        "      random_state=42  # Set a random state for reproducibility\n",
        "  )\n",
        "\n",
        "  # Create train and test directories\n",
        "  train_dir = os.path.join(data_dir, '/content/drive/MyDrive/Dataset/train')\n",
        "  test_dir = os.path.join(data_dir, '/content/drive/MyDrive/Dataset/test')\n",
        "  os.makedirs"
      ],
      "metadata": {
        "id": "eXv0Owi4ZR2e"
      },
      "execution_count": null,
      "outputs": []
    },
    {
      "cell_type": "markdown",
      "source": [
        "Data Preparation"
      ],
      "metadata": {
        "id": "5mZF04RUGBAs"
      }
    },
    {
      "cell_type": "code",
      "source": [
        "# prompt: Data Preparation:\n",
        "# After splitting, ensure that the images in both the training and testing sets are preprocessed (e.g., resized, normalized) as per the requirements of the deep learning model.\n",
        "\n",
        "import numpy as np\n",
        "def preprocess_images(data_dir, target_size=(256, 256)):\n",
        "  \"\"\"\n",
        "  Preprocesses images in a directory (resize and normalize).\n",
        "\n",
        "  Args:\n",
        "    data_dir: Path to the directory containing images.\n",
        "    target_size: Tuple specifying the desired width and height (e.g., (299, 299)).\n",
        "  \"\"\"\n",
        "  for filename in os.listdir(data_dir):\n",
        "    if filename.endswith(('.JPG', '.jpeg', '.png')):\n",
        "      image_path = os.path.join(data_dir, filename)\n",
        "      try:\n",
        "        img = Image.open(image_path)\n",
        "        img = img.resize(target_size)\n",
        "        # Normalize pixel values to [0, 1]\n",
        "        img = np.array(img) / 255.0\n",
        "        # Save the preprocessed image (optional, if you want to save the preprocessed images)\n",
        "        # cv2.imwrite(image_path, img * 255)\n",
        "      except Exception as e:\n",
        "        print(f\"Error preprocessing image {filename}: {e}\")\n",
        "\n",
        "# Example usage:\n",
        "train_dir = os.path.join(data_dir, '/content/drive/MyDrive/Dataset/train')\n",
        "test_dir = os.path.join(data_dir, '/content/drive/MyDrive/Dataset/test')\n",
        "\n",
        "# Preprocess images in the training set\n",
        "preprocess_images(train_dir, target_size=(256, 256))\n",
        "\n",
        "# Preprocess images in the testing set\n",
        "preprocess_images(test_dir, target_size=(256, 256))\n"
      ],
      "metadata": {
        "id": "7s9H7bNVZiPc"
      },
      "execution_count": null,
      "outputs": []
    },
    {
      "cell_type": "markdown",
      "source": [
        "Cross Validatation"
      ],
      "metadata": {
        "id": "xyrWoZTcGH0u"
      }
    },
    {
      "cell_type": "code",
      "source": [
        "# prompt: Cross-Validation (Optional):\n",
        "# For more robust evaluation, you can implement k-fold cross-validation, where the dataset is divided into k subsets. The model is trained k times, each time using a different subset as the testing set and the remaining subsets as the training set. This provides a more comprehensive assessment of the model's performance.\n",
        "\n",
        "from sklearn.model_selection import KFold\n",
        "import numpy as np\n",
        "\n",
        "# Assuming you have your data loaded into X (features) and y (labels)\n",
        "\n",
        "def cross_validation(X, y, k=5):\n",
        "  \"\"\"\n",
        "  Performs k-fold cross-validation.\n",
        "\n",
        "  Args:\n",
        "    X: Features (e.g., images).\n",
        "    y: Labels.\n",
        "    k: Number of folds (default 5).\n",
        "  \"\"\"\n",
        "  kf = KFold(n_splits=k, shuffle=True, random_state=42)\n",
        "  for train_index, test_index in kf.split(X):\n",
        "    X_train, X_test = X[train_index], X[test_index]\n",
        "    y_train, y_test = y[train_index], y[test_index]\n",
        "\n",
        "    # Train your model using X_train and y_train\n",
        "    # Evaluate your model using X_test and y_test\n",
        "\n",
        "    # Example:\n",
        "    # model = ...  # Your model\n",
        "    # model.fit(X_train, y_train)\n",
        "    # predictions = model.predict(X_test)\n",
        "    # Evaluate the predictions (e.g., accuracy, precision, recall)\n",
        "\n",
        "    # ... (Your model training and evaluation code here)\n"
      ],
      "metadata": {
        "id": "secrLFzNZolx"
      },
      "execution_count": null,
      "outputs": []
    },
    {
      "cell_type": "code",
      "source": [
        "from tensorflow.keras.applications.inception_resnet_v2 import InceptionResNetV2, preprocess_input\n",
        "from tensorflow.keras.layers import Dense, GlobalAveragePooling2D\n",
        "from tensorflow.keras.models import Model\n",
        "\n",
        "# Load the pre-trained InceptionResNetV2 model without the top classification layer\n",
        "base_model = InceptionResNetV2(weights='imagenet', include_top=False, input_shape=(256,256,3))\n",
        "\n",
        "# Add custom classification layers\n",
        "x = base_model.output\n",
        "x = GlobalAveragePooling2D()(x)\n",
        "x = Dense(1024, activation='relu')(x)\n",
        "\n",
        "# Set the number of classes in your dataset\n",
        "num_classes = 10 # Example: Replace with the actual number of classes\n",
        "predictions = Dense(num_classes, activation='softmax')(x)\n",
        "\n",
        "# Create the final model\n",
        "model = Model(inputs=base_model.input, outputs=predictions)\n",
        "\n",
        "# Freeze the layers of the pre-trained model\n",
        "for layer in base_model.layers:\n",
        "    layer.trainable = False\n",
        "\n",
        "# Compile the model\n",
        "model.compile(optimizer='adam', loss='categorical_crossentropy', metrics=['accuracy'])"
      ],
      "metadata": {
        "id": "3ooHYYYWZ7YY",
        "colab": {
          "base_uri": "https://localhost:8080/"
        },
        "outputId": "081cb45d-52ee-4f98-8755-c8c1c3b4edd7"
      },
      "execution_count": null,
      "outputs": [
        {
          "output_type": "stream",
          "name": "stdout",
          "text": [
            "Downloading data from https://storage.googleapis.com/tensorflow/keras-applications/inception_resnet_v2/inception_resnet_v2_weights_tf_dim_ordering_tf_kernels_notop.h5\n",
            "\u001b[1m219055592/219055592\u001b[0m \u001b[32m━━━━━━━━━━━━━━━━━━━━\u001b[0m\u001b[37m\u001b[0m \u001b[1m2s\u001b[0m 0us/step\n"
          ]
        }
      ]
    },
    {
      "cell_type": "code",
      "source": [
        "# prompt: Model Fine-Tuning:\n",
        "# Modify the Last Fully Connected (FC) Layer: Since the original model is designed for a different classification task (e.g., 1000 object classes), replace the last FC layer with a new one that corresponds to the number of classes in your specific task (e.g., four classes for apple leaf diseases).\n",
        "\n",
        "# Load the pre-trained InceptionResNetV2 model without the top classification layer\n",
        "base_model = InceptionResNetV2(weights='imagenet', include_top=False, input_shape=(299, 299, 3))\n",
        "\n",
        "# Add custom classification layers\n",
        "x = base_model.output\n",
        "x = GlobalAveragePooling2D()(x)\n",
        "x = Dense(1024, activation='relu')(x)\n",
        "predictions = Dense(4, activation='softmax')(x)  # Replace 4 with the number of classes in your dataset\n",
        "\n",
        "# Create the final model\n",
        "model = Model(inputs=base_model.input, outputs=predictions)\n",
        "\n",
        "# Freeze the layers of the pre-trained model\n",
        "for layer in base_model.layers:\n",
        "    layer.trainable = False\n",
        "\n",
        "# Compile the model\n",
        "model.compile(optimizer='adam', loss='categorical_crossentropy', metrics=['accuracy'])\n"
      ],
      "metadata": {
        "id": "cR94cz_MaDeZ"
      },
      "execution_count": null,
      "outputs": []
    },
    {
      "cell_type": "code",
      "source": [
        "# prompt: Freeze Initial Layers: Initially, freeze the weights of the earlier layers to retain the learned features from the pretrained model. This allows the model to focus on learning the new classification task without losing the general features already captured.\n",
        "\n",
        "# Freeze the layers of the pre-trained model\n",
        "for layer in base_model.layers:\n",
        "    layer.trainable = False\n"
      ],
      "metadata": {
        "id": "ZlSSPm_-aJnR"
      },
      "execution_count": null,
      "outputs": []
    },
    {
      "cell_type": "code",
      "source": [
        "# prompt: Input Preparation:\n",
        "# Ensure that the input images are preprocessed (resized, normalized, etc.) to match the input requirements of the Inception-ResNet-V2 model (e.g., dimensions of 299 × 299 × 3).\n",
        "\n",
        "import numpy as np\n",
        "# Assuming you have your image data loaded into a directory\n",
        "def preprocess_images(data_dir, target_size=(299, 299)):\n",
        "  \"\"\"\n",
        "  Preprocesses images in a directory (resize and normalize).\n",
        "\n",
        "  Args:\n",
        "    data_dir: Path to the directory containing images.\n",
        "    target_size: Tuple specifying the desired width and height (e.g., (299, 299)).\n",
        "  \"\"\"\n",
        "  for filename in os.listdir(data_dir):\n",
        "    if filename.endswith(('.JPG', '.jpeg', '.png')):\n",
        "      image_path = os.path.join(data_dir, filename)\n",
        "      try:\n",
        "        img = Image.open(image_path)\n",
        "        img = img.resize(target_size)\n",
        "        # Normalize pixel values to [0, 1]\n",
        "        img = np.array(img) / 255.0\n",
        "        # Save the preprocessed image (optional, if you want to save the preprocessed images)\n",
        "        # cv2.imwrite(image_path, img * 255)\n",
        "      except Exception as e:\n",
        "        print(f\"Error preprocessing image {filename}: {e}\")\n",
        "\n",
        "# Example usage:\n",
        "train_dir = os.path.join(data_dir, '/content/drive/MyDrive/Dataset/train')\n",
        "test_dir = os.path.join(data_dir, '/content/drive/MyDrive/Dataset/test')\n",
        "\n",
        "# Preprocess images in the training set\n",
        "preprocess_images(train_dir, target_size=(256, 256))\n",
        "\n",
        "# Preprocess images in the testing set\n",
        "preprocess_images(test_dir, target_size=(256, 256))\n"
      ],
      "metadata": {
        "id": "vmpOKYgOaMpS"
      },
      "execution_count": null,
      "outputs": []
    },
    {
      "cell_type": "code",
      "source": [
        "import os\n",
        "\n",
        "# Verify the directory path\n",
        "print(f\"Training directory path: {train_dir}\")\n",
        "\n",
        "# Check if the directory exists\n",
        "if os.path.exists(train_dir):\n",
        "    print(\"Training directory exists.\")\n",
        "else:\n",
        "    print(\"Training directory does not exist. Please check the path.\")\n",
        "\n",
        "# Check for subdirectories and images\n",
        "for subdir in os.listdir(train_dir):\n",
        "    subdir_path = os.path.join(train_dir, subdir)\n",
        "    if os.path.isdir(subdir_path):\n",
        "        num_images = len([f for f in os.listdir(subdir_path) if f.endswith(('.JPG', '.jpeg', '.png'))])\n",
        "        print(f\"Subdirectory '{subdir}': {num_images} images found.\")\n",
        "    else:\n",
        "        print(f\"'{subdir}' is not a subdirectory.\")"
      ],
      "metadata": {
        "colab": {
          "base_uri": "https://localhost:8080/"
        },
        "id": "ThybwtRIFMBF",
        "outputId": "c7fabf3e-7158-4250-ac28-be1b26095695"
      },
      "execution_count": null,
      "outputs": [
        {
          "output_type": "stream",
          "name": "stdout",
          "text": [
            "Training directory path: /content/drive/MyDrive/Dataset/train\n",
            "Training directory exists.\n",
            "'aug_0_5598.JPG' is not a subdirectory.\n",
            "'aug_0_931.JPG' is not a subdirectory.\n",
            "'aug_0_1212.JPG' is not a subdirectory.\n",
            "'aug_0_599.JPG' is not a subdirectory.\n",
            "'aug_0_9001.JPG' is not a subdirectory.\n",
            "'aug_0_4233.JPG' is not a subdirectory.\n",
            "'aug_0_8320.JPG' is not a subdirectory.\n",
            "'aug_0_5671.JPG' is not a subdirectory.\n",
            "'aug_0_4016.JPG' is not a subdirectory.\n",
            "'aug_0_4076.JPG' is not a subdirectory.\n",
            "'aug_0_5802.JPG' is not a subdirectory.\n",
            "'aug_0_2133.JPG' is not a subdirectory.\n",
            "'aug_0_5934.JPG' is not a subdirectory.\n",
            "'aug_vertical_0_5745.JPG' is not a subdirectory.\n",
            "'aug_vertical_0_6295.JPG' is not a subdirectory.\n",
            "'aug_vertical_0_367.JPG' is not a subdirectory.\n",
            "'aug_vertical_0_3141.JPG' is not a subdirectory.\n",
            "'aug_vertical_0_3475.JPG' is not a subdirectory.\n",
            "'aug_vertical_0_7665.JPG' is not a subdirectory.\n",
            "'aug_vertical_0_8121.JPG' is not a subdirectory.\n",
            "'aug_rotation_0_2316.JPG' is not a subdirectory.\n",
            "'aug_rotation_0_1916.JPG' is not a subdirectory.\n",
            "'aug_rotation_0_3915.JPG' is not a subdirectory.\n",
            "'aug_rotation_0_3493.JPG' is not a subdirectory.\n",
            "'aug_rotation_0_3517.JPG' is not a subdirectory.\n",
            "'aug_rotation_0_9322.JPG' is not a subdirectory.\n",
            "'aug_rotation_0_1842.JPG' is not a subdirectory.\n",
            "'aug_rotation_0_4759.JPG' is not a subdirectory.\n",
            "'aug_rotation_0_2513.JPG' is not a subdirectory.\n",
            "'aug_rotation_0_4631.JPG' is not a subdirectory.\n",
            "'aug_rotation_0_2461.JPG' is not a subdirectory.\n",
            "'aug_rotation_0_7379.JPG' is not a subdirectory.\n",
            "'aug_scaling_0_574.JPG' is not a subdirectory.\n",
            "'aug_scaling_0_169.JPG' is not a subdirectory.\n",
            "'aug_scaling_0_8744.JPG' is not a subdirectory.\n",
            "'aug_scaling_0_6871.JPG' is not a subdirectory.\n",
            "'aug_scaling_0_3506.JPG' is not a subdirectory.\n",
            "'aug_scaling_0_4686.JPG' is not a subdirectory.\n",
            "'aug_scaling_0_2264.JPG' is not a subdirectory.\n",
            "'aug_scaling_0_9638.JPG' is not a subdirectory.\n",
            "'aug_scaling_0_5437.JPG' is not a subdirectory.\n",
            "'aug_scaling_0_1226.JPG' is not a subdirectory.\n",
            "'aug_scaling_0_4866.JPG' is not a subdirectory.\n",
            "'aug_scaling_0_3267.JPG' is not a subdirectory.\n",
            "'aug_cropping_0_8475.JPG' is not a subdirectory.\n",
            "'aug_cropping_0_4859.JPG' is not a subdirectory.\n",
            "'aug_cropping_0_8415.JPG' is not a subdirectory.\n",
            "'aug_cropping_0_1622.JPG' is not a subdirectory.\n",
            "'aug_cropping_0_3027.JPG' is not a subdirectory.\n",
            "'aug_cropping_0_4978.JPG' is not a subdirectory.\n",
            "'aug_cropping_0_2266.JPG' is not a subdirectory.\n",
            "'aug_cropping_0_4953.JPG' is not a subdirectory.\n",
            "'aug_cropping_0_7021.JPG' is not a subdirectory.\n",
            "'aug_normalized_0_6451.JPG' is not a subdirectory.\n",
            "'aug_normalized_0_1116.JPG' is not a subdirectory.\n",
            "'aug_normalized_0_6483.JPG' is not a subdirectory.\n",
            "'aug_normalized_0_3474.JPG' is not a subdirectory.\n",
            "'aug_normalized_0_7817.JPG' is not a subdirectory.\n",
            "'aug_normalized_0_8210.JPG' is not a subdirectory.\n",
            "'aug_normalized_0_1557.JPG' is not a subdirectory.\n",
            "'aug_normalized_0_6420.JPG' is not a subdirectory.\n",
            "'aug_normalized_0_9344.JPG' is not a subdirectory.\n",
            "'aug_normalized_0_3339.JPG' is not a subdirectory.\n",
            "'aug_0_4124.JPG' is not a subdirectory.\n",
            "'aug_0_415.JPG' is not a subdirectory.\n",
            "'aug_0_3754.JPG' is not a subdirectory.\n",
            "'aug_0_5582.JPG' is not a subdirectory.\n",
            "'aug_0_3193.JPG' is not a subdirectory.\n",
            "'aug_0_3734.JPG' is not a subdirectory.\n",
            "'aug_0_9338.JPG' is not a subdirectory.\n",
            "'aug_0_2174.JPG' is not a subdirectory.\n",
            "'aug_0_548.JPG' is not a subdirectory.\n",
            "'aug_0_30.JPG' is not a subdirectory.\n",
            "'aug_0_7396.JPG' is not a subdirectory.\n",
            "'aug_0_8261.JPG' is not a subdirectory.\n",
            "'aug_0_7092.JPG' is not a subdirectory.\n",
            "'aug_0_2061.JPG' is not a subdirectory.\n",
            "'aug_0_6478.JPG' is not a subdirectory.\n",
            "'aug_0_5675.JPG' is not a subdirectory.\n",
            "'aug_0_6041.JPG' is not a subdirectory.\n",
            "'aug_0_6972.JPG' is not a subdirectory.\n",
            "'aug_0_711.JPG' is not a subdirectory.\n",
            "'aug_0_5065.JPG' is not a subdirectory.\n",
            "'aug_0_8169.JPG' is not a subdirectory.\n",
            "'aug_0_2804.JPG' is not a subdirectory.\n",
            "'aug_0_1380.JPG' is not a subdirectory.\n",
            "'aug_0_4387.JPG' is not a subdirectory.\n",
            "'aug_0_4616.JPG' is not a subdirectory.\n",
            "'aug_0_1619.JPG' is not a subdirectory.\n",
            "'aug_0_1326.JPG' is not a subdirectory.\n",
            "'aug_0_2567.JPG' is not a subdirectory.\n",
            "'aug_0_5469.JPG' is not a subdirectory.\n",
            "'aug_0_7657.JPG' is not a subdirectory.\n",
            "'aug_0_8946.JPG' is not a subdirectory.\n",
            "'aug_0_8083.JPG' is not a subdirectory.\n",
            "'aug_0_8632.JPG' is not a subdirectory.\n",
            "'aug_0_3199.JPG' is not a subdirectory.\n",
            "'aug_0_1232.JPG' is not a subdirectory.\n",
            "'aug_0_3093.JPG' is not a subdirectory.\n",
            "'aug_0_969.JPG' is not a subdirectory.\n",
            "'aug_0_1384.JPG' is not a subdirectory.\n",
            "'aug_0_7315.JPG' is not a subdirectory.\n",
            "'aug_0_6374.JPG' is not a subdirectory.\n",
            "'aug_0_6196.JPG' is not a subdirectory.\n",
            "'aug_0_5607.JPG' is not a subdirectory.\n",
            "'aug_0_9260.JPG' is not a subdirectory.\n",
            "'aug_0_8636.JPG' is not a subdirectory.\n",
            "'aug_0_9894.JPG' is not a subdirectory.\n",
            "'aug_0_1331.JPG' is not a subdirectory.\n",
            "'aug_0_4569.JPG' is not a subdirectory.\n",
            "'aug_0_740.JPG' is not a subdirectory.\n",
            "'aug_0_2992.JPG' is not a subdirectory.\n",
            "'aug_0_1375.JPG' is not a subdirectory.\n",
            "'aug_0_3709.JPG' is not a subdirectory.\n",
            "'aug_0_9570.JPG' is not a subdirectory.\n",
            "'aug_0_4756.JPG' is not a subdirectory.\n",
            "'aug_0_5093.JPG' is not a subdirectory.\n",
            "'aug_0_3623.JPG' is not a subdirectory.\n",
            "'aug_0_96.JPG' is not a subdirectory.\n",
            "'aug_0_3970.JPG' is not a subdirectory.\n",
            "'aug_0_5738.JPG' is not a subdirectory.\n",
            "'aug_0_5706.JPG' is not a subdirectory.\n",
            "'aug_0_5390.JPG' is not a subdirectory.\n",
            "'aug_0_5772.JPG' is not a subdirectory.\n",
            "'aug_0_3991.JPG' is not a subdirectory.\n",
            "'aug_0_8754.JPG' is not a subdirectory.\n",
            "'aug_0_8011.JPG' is not a subdirectory.\n",
            "'aug_0_169.JPG' is not a subdirectory.\n",
            "'aug_0_5108.JPG' is not a subdirectory.\n",
            "'aug_0_736.JPG' is not a subdirectory.\n",
            "'aug_0_8175.JPG' is not a subdirectory.\n",
            "'aug_0_7894.JPG' is not a subdirectory.\n",
            "'aug_0_6211.JPG' is not a subdirectory.\n",
            "'aug_0_7831.JPG' is not a subdirectory.\n",
            "'aug_0_6190.JPG' is not a subdirectory.\n",
            "'aug_0_1342.JPG' is not a subdirectory.\n",
            "'aug_0_2065.JPG' is not a subdirectory.\n",
            "'aug_0_3179.JPG' is not a subdirectory.\n",
            "'aug_0_1307.JPG' is not a subdirectory.\n",
            "'aug_0_7574.JPG' is not a subdirectory.\n",
            "'aug_0_3534.JPG' is not a subdirectory.\n",
            "'aug_0_3317.JPG' is not a subdirectory.\n",
            "'aug_0_2773.JPG' is not a subdirectory.\n",
            "'aug_0_5904.JPG' is not a subdirectory.\n",
            "'aug_0_2591.JPG' is not a subdirectory.\n",
            "'aug_0_7866.JPG' is not a subdirectory.\n",
            "'aug_0_7740.JPG' is not a subdirectory.\n",
            "'aug_0_193.JPG' is not a subdirectory.\n",
            "'aug_0_6462.JPG' is not a subdirectory.\n",
            "'aug_0_1419.JPG' is not a subdirectory.\n",
            "'aug_0_1085.JPG' is not a subdirectory.\n",
            "'aug_0_3156.JPG' is not a subdirectory.\n",
            "'aug_0_7784.JPG' is not a subdirectory.\n",
            "'aug_0_4154.JPG' is not a subdirectory.\n",
            "'aug_0_4716.JPG' is not a subdirectory.\n",
            "'aug_0_9517.JPG' is not a subdirectory.\n",
            "'aug_0_2235.JPG' is not a subdirectory.\n",
            "'aug_0_8555.JPG' is not a subdirectory.\n",
            "'aug_0_2402.JPG' is not a subdirectory.\n",
            "'aug_0_1276.JPG' is not a subdirectory.\n",
            "'aug_0_8259.JPG' is not a subdirectory.\n",
            "'aug_0_5442.JPG' is not a subdirectory.\n",
            "'aug_0_1185.JPG' is not a subdirectory.\n",
            "'aug_0_8716.JPG' is not a subdirectory.\n",
            "'aug_0_1998.JPG' is not a subdirectory.\n",
            "'aug_0_1008.JPG' is not a subdirectory.\n",
            "'aug_0_4396.JPG' is not a subdirectory.\n",
            "'aug_0_4200.JPG' is not a subdirectory.\n",
            "'aug_0_4438.JPG' is not a subdirectory.\n",
            "'aug_0_167.JPG' is not a subdirectory.\n",
            "'aug_0_6050.JPG' is not a subdirectory.\n",
            "'aug_0_3713.JPG' is not a subdirectory.\n",
            "'aug_0_8313.JPG' is not a subdirectory.\n",
            "'aug_0_248.JPG' is not a subdirectory.\n",
            "'aug_0_9103.JPG' is not a subdirectory.\n",
            "'aug_0_620.JPG' is not a subdirectory.\n",
            "'aug_0_4026.JPG' is not a subdirectory.\n",
            "'aug_0_6431.JPG' is not a subdirectory.\n",
            "'aug_0_4404.JPG' is not a subdirectory.\n",
            "'aug_0_5704.JPG' is not a subdirectory.\n",
            "'aug_0_5481.JPG' is not a subdirectory.\n",
            "'aug_0_9216.JPG' is not a subdirectory.\n",
            "'aug_0_9341.JPG' is not a subdirectory.\n",
            "'aug_0_6111.JPG' is not a subdirectory.\n",
            "'aug_0_2161.JPG' is not a subdirectory.\n",
            "'aug_0_1713.JPG' is not a subdirectory.\n",
            "'aug_0_9282.JPG' is not a subdirectory.\n",
            "'aug_0_4676.JPG' is not a subdirectory.\n",
            "'aug_0_6358.JPG' is not a subdirectory.\n",
            "'aug_0_3303.JPG' is not a subdirectory.\n",
            "'aug_0_6818.JPG' is not a subdirectory.\n",
            "'aug_0_2656.JPG' is not a subdirectory.\n",
            "'aug_0_739.JPG' is not a subdirectory.\n",
            "'aug_0_1551.JPG' is not a subdirectory.\n",
            "'aug_0_9972.JPG' is not a subdirectory.\n",
            "'aug_0_1234.JPG' is not a subdirectory.\n",
            "'aug_0_4129.JPG' is not a subdirectory.\n",
            "'aug_0_9399.JPG' is not a subdirectory.\n",
            "'aug_0_9226.JPG' is not a subdirectory.\n",
            "'aug_0_4904.JPG' is not a subdirectory.\n",
            "'aug_0_5686.JPG' is not a subdirectory.\n",
            "'aug_0_6188.JPG' is not a subdirectory.\n",
            "'aug_0_9020.JPG' is not a subdirectory.\n",
            "'aug_0_7677.JPG' is not a subdirectory.\n",
            "'aug_0_464.JPG' is not a subdirectory.\n",
            "'aug_0_2231.JPG' is not a subdirectory.\n",
            "'aug_0_9466.JPG' is not a subdirectory.\n",
            "'aug_0_9696.JPG' is not a subdirectory.\n",
            "'aug_0_2755.JPG' is not a subdirectory.\n",
            "'aug_0_54.JPG' is not a subdirectory.\n",
            "'aug_0_642.JPG' is not a subdirectory.\n",
            "'aug_0_1820.JPG' is not a subdirectory.\n",
            "'aug_0_4035.JPG' is not a subdirectory.\n",
            "'aug_0_6726.JPG' is not a subdirectory.\n",
            "'aug_0_9653.JPG' is not a subdirectory.\n",
            "'aug_0_5086.JPG' is not a subdirectory.\n",
            "'aug_0_5180.JPG' is not a subdirectory.\n",
            "'aug_0_2233.JPG' is not a subdirectory.\n",
            "'aug_0_378.JPG' is not a subdirectory.\n",
            "'aug_0_2798.JPG' is not a subdirectory.\n",
            "'aug_0_9590.JPG' is not a subdirectory.\n",
            "'aug_0_6219.JPG' is not a subdirectory.\n",
            "'aug_0_4524.JPG' is not a subdirectory.\n",
            "'aug_0_6952.JPG' is not a subdirectory.\n",
            "'aug_0_3710.JPG' is not a subdirectory.\n",
            "'aug_0_8874.JPG' is not a subdirectory.\n",
            "'aug_0_6203.JPG' is not a subdirectory.\n",
            "'aug_0_9905.JPG' is not a subdirectory.\n",
            "'aug_0_8975.JPG' is not a subdirectory.\n",
            "'aug_0_2533.JPG' is not a subdirectory.\n",
            "'aug_0_9685.JPG' is not a subdirectory.\n",
            "'aug_0_7823.JPG' is not a subdirectory.\n",
            "'aug_0_5969.JPG' is not a subdirectory.\n",
            "'aug_0_8537.JPG' is not a subdirectory.\n",
            "'aug_0_598.JPG' is not a subdirectory.\n",
            "'aug_0_1245.JPG' is not a subdirectory.\n",
            "'aug_0_5997.JPG' is not a subdirectory.\n",
            "'aug_0_9265.JPG' is not a subdirectory.\n",
            "'aug_0_1639.JPG' is not a subdirectory.\n",
            "'aug_0_9176.JPG' is not a subdirectory.\n",
            "'aug_0_282.JPG' is not a subdirectory.\n",
            "'aug_0_2881.JPG' is not a subdirectory.\n",
            "'aug_0_5707.JPG' is not a subdirectory.\n",
            "'aug_0_4393.JPG' is not a subdirectory.\n",
            "'aug_0_9015.JPG' is not a subdirectory.\n",
            "'aug_0_2263.JPG' is not a subdirectory.\n",
            "'aug_0_6084.JPG' is not a subdirectory.\n",
            "'aug_0_8245.JPG' is not a subdirectory.\n",
            "'aug_0_6847.JPG' is not a subdirectory.\n",
            "'aug_0_4877.JPG' is not a subdirectory.\n",
            "'aug_0_4901.JPG' is not a subdirectory.\n",
            "'aug_0_5243.JPG' is not a subdirectory.\n",
            "'aug_0_7520.JPG' is not a subdirectory.\n",
            "'aug_0_8214.JPG' is not a subdirectory.\n",
            "'aug_0_730.JPG' is not a subdirectory.\n",
            "'aug_0_9614.JPG' is not a subdirectory.\n",
            "'aug_0_6784.JPG' is not a subdirectory.\n",
            "'aug_0_702.JPG' is not a subdirectory.\n",
            "'aug_0_1862.JPG' is not a subdirectory.\n",
            "'aug_0_708.JPG' is not a subdirectory.\n",
            "'aug_0_9096.JPG' is not a subdirectory.\n",
            "'aug_0_1880.JPG' is not a subdirectory.\n",
            "'aug_0_3262.JPG' is not a subdirectory.\n",
            "'aug_0_3719.JPG' is not a subdirectory.\n",
            "'aug_0_5502.JPG' is not a subdirectory.\n",
            "'aug_0_638.JPG' is not a subdirectory.\n",
            "'aug_0_4053.JPG' is not a subdirectory.\n",
            "'aug_0_2612.JPG' is not a subdirectory.\n",
            "'aug_0_3644.JPG' is not a subdirectory.\n",
            "'aug_0_7496.JPG' is not a subdirectory.\n",
            "'aug_0_6683.JPG' is not a subdirectory.\n",
            "'aug_0_3831.JPG' is not a subdirectory.\n",
            "'aug_0_3097.JPG' is not a subdirectory.\n",
            "'aug_0_1062.JPG' is not a subdirectory.\n",
            "'aug_0_1036.JPG' is not a subdirectory.\n",
            "'aug_0_4563.JPG' is not a subdirectory.\n",
            "'aug_0_2829.JPG' is not a subdirectory.\n",
            "'aug_0_7974.JPG' is not a subdirectory.\n",
            "'aug_0_5350.JPG' is not a subdirectory.\n",
            "'aug_0_6594.JPG' is not a subdirectory.\n",
            "'aug_0_7220.JPG' is not a subdirectory.\n",
            "'aug_0_7748.JPG' is not a subdirectory.\n",
            "'aug_0_5358.JPG' is not a subdirectory.\n",
            "'aug_0_5269.JPG' is not a subdirectory.\n",
            "'aug_0_1917.JPG' is not a subdirectory.\n",
            "'aug_0_8130.JPG' is not a subdirectory.\n",
            "'aug_0_3953.JPG' is not a subdirectory.\n",
            "'aug_0_3911.JPG' is not a subdirectory.\n",
            "'aug_0_2861.JPG' is not a subdirectory.\n",
            "'aug_0_8561.JPG' is not a subdirectory.\n",
            "'aug_0_6702.JPG' is not a subdirectory.\n",
            "'aug_0_1754.JPG' is not a subdirectory.\n",
            "'aug_0_9663.JPG' is not a subdirectory.\n",
            "'aug_0_5631.JPG' is not a subdirectory.\n",
            "'aug_0_6620.JPG' is not a subdirectory.\n",
            "'aug_0_7938.JPG' is not a subdirectory.\n",
            "'aug_0_4067.JPG' is not a subdirectory.\n",
            "'aug_0_175.JPG' is not a subdirectory.\n",
            "'aug_0_3662.JPG' is not a subdirectory.\n",
            "'aug_0_2696.JPG' is not a subdirectory.\n",
            "'aug_0_3918.JPG' is not a subdirectory.\n",
            "'aug_0_5116.JPG' is not a subdirectory.\n",
            "'aug_0_8861.JPG' is not a subdirectory.\n",
            "'aug_0_5540.JPG' is not a subdirectory.\n",
            "'aug_0_1733.JPG' is not a subdirectory.\n",
            "'aug_0_3578.JPG' is not a subdirectory.\n",
            "'aug_0_590.JPG' is not a subdirectory.\n",
            "'aug_0_1992.JPG' is not a subdirectory.\n",
            "'aug_0_2989.JPG' is not a subdirectory.\n",
            "'aug_0_7293.JPG' is not a subdirectory.\n",
            "'aug_0_2846.JPG' is not a subdirectory.\n",
            "'aug_0_1520.JPG' is not a subdirectory.\n",
            "'aug_0_6821.JPG' is not a subdirectory.\n",
            "'aug_0_4595.JPG' is not a subdirectory.\n",
            "'aug_0_8162.JPG' is not a subdirectory.\n",
            "'aug_0_7513.JPG' is not a subdirectory.\n",
            "'aug_0_1911.JPG' is not a subdirectory.\n",
            "'aug_0_8833.JPG' is not a subdirectory.\n",
            "'aug_0_8355.JPG' is not a subdirectory.\n",
            "'aug_0_4736.JPG' is not a subdirectory.\n",
            "'aug_0_6644.JPG' is not a subdirectory.\n",
            "'aug_0_2178.JPG' is not a subdirectory.\n",
            "'aug_0_3233.JPG' is not a subdirectory.\n",
            "'aug_0_5547.JPG' is not a subdirectory.\n",
            "'aug_0_8803.JPG' is not a subdirectory.\n",
            "'aug_0_9945.JPG' is not a subdirectory.\n",
            "'aug_0_3822.JPG' is not a subdirectory.\n",
            "'aug_0_8691.JPG' is not a subdirectory.\n",
            "'aug_0_8582.JPG' is not a subdirectory.\n",
            "'aug_0_3535.JPG' is not a subdirectory.\n",
            "'aug_0_3361.JPG' is not a subdirectory.\n",
            "'aug_0_9159.JPG' is not a subdirectory.\n",
            "'aug_0_8417.JPG' is not a subdirectory.\n",
            "'aug_0_5985.JPG' is not a subdirectory.\n",
            "'aug_0_9740.JPG' is not a subdirectory.\n",
            "'aug_0_5651.JPG' is not a subdirectory.\n",
            "'aug_0_696.JPG' is not a subdirectory.\n",
            "'aug_0_7666.JPG' is not a subdirectory.\n",
            "'aug_0_9873.JPG' is not a subdirectory.\n",
            "'aug_0_290.JPG' is not a subdirectory.\n",
            "'aug_0_2053.JPG' is not a subdirectory.\n",
            "'aug_0_9086.JPG' is not a subdirectory.\n",
            "'aug_0_5862.JPG' is not a subdirectory.\n",
            "'aug_0_7699.JPG' is not a subdirectory.\n",
            "'aug_0_6073.JPG' is not a subdirectory.\n",
            "'aug_0_6026.JPG' is not a subdirectory.\n",
            "'aug_0_9601.JPG' is not a subdirectory.\n",
            "'aug_0_4702.JPG' is not a subdirectory.\n",
            "'aug_0_3530.JPG' is not a subdirectory.\n",
            "'aug_0_1622.JPG' is not a subdirectory.\n",
            "'aug_0_7422.JPG' is not a subdirectory.\n",
            "'aug_0_985.JPG' is not a subdirectory.\n",
            "'aug_0_9401.JPG' is not a subdirectory.\n",
            "'aug_0_9145.JPG' is not a subdirectory.\n",
            "'aug_0_7609.JPG' is not a subdirectory.\n",
            "'aug_0_4112.JPG' is not a subdirectory.\n",
            "'aug_0_3998.JPG' is not a subdirectory.\n",
            "'aug_0_4321.JPG' is not a subdirectory.\n",
            "'aug_0_4325.JPG' is not a subdirectory.\n",
            "'aug_0_8974.JPG' is not a subdirectory.\n",
            "'aug_0_1663.JPG' is not a subdirectory.\n",
            "'aug_0_3699.JPG' is not a subdirectory.\n",
            "'aug_0_809.JPG' is not a subdirectory.\n",
            "'aug_0_2625.JPG' is not a subdirectory.\n",
            "'aug_0_6242.JPG' is not a subdirectory.\n",
            "'aug_0_8168.JPG' is not a subdirectory.\n",
            "'aug_0_2626.JPG' is not a subdirectory.\n",
            "'aug_0_1497.JPG' is not a subdirectory.\n",
            "'aug_0_2119.JPG' is not a subdirectory.\n",
            "'aug_0_6176.JPG' is not a subdirectory.\n",
            "'aug_0_7862.JPG' is not a subdirectory.\n",
            "'aug_0_8761.JPG' is not a subdirectory.\n",
            "'aug_0_2759.JPG' is not a subdirectory.\n",
            "'aug_0_5964.JPG' is not a subdirectory.\n",
            "'aug_0_3549.JPG' is not a subdirectory.\n",
            "'aug_0_2855.JPG' is not a subdirectory.\n",
            "'aug_0_6289.JPG' is not a subdirectory.\n",
            "'aug_0_5258.JPG' is not a subdirectory.\n",
            "'aug_0_4881.JPG' is not a subdirectory.\n",
            "'aug_0_6071.JPG' is not a subdirectory.\n",
            "'aug_0_2873.JPG' is not a subdirectory.\n",
            "'aug_0_1847.JPG' is not a subdirectory.\n",
            "'aug_0_6762.JPG' is not a subdirectory.\n",
            "'aug_0_2849.JPG' is not a subdirectory.\n",
            "'aug_0_6636.JPG' is not a subdirectory.\n",
            "'aug_0_3184.JPG' is not a subdirectory.\n",
            "'aug_0_9664.JPG' is not a subdirectory.\n",
            "'aug_0_5532.JPG' is not a subdirectory.\n",
            "'aug_0_521.JPG' is not a subdirectory.\n",
            "'aug_0_1690.JPG' is not a subdirectory.\n",
            "'aug_0_325.JPG' is not a subdirectory.\n",
            "'aug_0_3781.JPG' is not a subdirectory.\n",
            "'aug_0_8230.JPG' is not a subdirectory.\n",
            "'aug_0_226.JPG' is not a subdirectory.\n",
            "'aug_0_1693.JPG' is not a subdirectory.\n",
            "'aug_0_2967.JPG' is not a subdirectory.\n",
            "'aug_0_3860.JPG' is not a subdirectory.\n",
            "'aug_0_8360.JPG' is not a subdirectory.\n",
            "'aug_0_3447.JPG' is not a subdirectory.\n",
            "'aug_0_2731.JPG' is not a subdirectory.\n",
            "'aug_0_9480.JPG' is not a subdirectory.\n",
            "'aug_0_8143.JPG' is not a subdirectory.\n",
            "'aug_0_1607.JPG' is not a subdirectory.\n",
            "'aug_0_4684.JPG' is not a subdirectory.\n",
            "'aug_0_7569.JPG' is not a subdirectory.\n",
            "'aug_0_5493.JPG' is not a subdirectory.\n",
            "'aug_0_9926.JPG' is not a subdirectory.\n",
            "'aug_0_3349.JPG' is not a subdirectory.\n",
            "'aug_0_1864.JPG' is not a subdirectory.\n",
            "'aug_0_24.JPG' is not a subdirectory.\n",
            "'aug_0_9359.JPG' is not a subdirectory.\n",
            "'aug_0_5584.JPG' is not a subdirectory.\n",
            "'aug_0_7425.JPG' is not a subdirectory.\n",
            "'aug_0_1536.JPG' is not a subdirectory.\n",
            "'aug_0_3009.JPG' is not a subdirectory.\n",
            "'aug_0_7481.JPG' is not a subdirectory.\n",
            "'aug_0_3694.JPG' is not a subdirectory.\n",
            "'aug_0_8901.JPG' is not a subdirectory.\n",
            "'aug_0_7022.JPG' is not a subdirectory.\n",
            "'aug_0_7800.JPG' is not a subdirectory.\n",
            "'aug_0_8115.JPG' is not a subdirectory.\n",
            "'aug_0_4539.JPG' is not a subdirectory.\n",
            "'aug_0_3983.JPG' is not a subdirectory.\n",
            "'aug_0_7585.JPG' is not a subdirectory.\n",
            "'aug_0_7258.JPG' is not a subdirectory.\n",
            "'aug_0_8868.JPG' is not a subdirectory.\n",
            "'aug_0_7926.JPG' is not a subdirectory.\n",
            "'aug_0_4505.JPG' is not a subdirectory.\n",
            "'aug_0_122.JPG' is not a subdirectory.\n",
            "'aug_0_7098.JPG' is not a subdirectory.\n",
            "'aug_0_5304.JPG' is not a subdirectory.\n",
            "'aug_0_8129.JPG' is not a subdirectory.\n",
            "'aug_0_5127.JPG' is not a subdirectory.\n",
            "'aug_0_7818.JPG' is not a subdirectory.\n"
          ]
        }
      ]
    },
    {
      "cell_type": "code",
      "source": [
        "# prompt: Transfer Learning: The project employs transfer learning, which involves using a pre-trained model (Inception-ResNet-V2) that has been trained on a large dataset (like ImageNet) and fine-tuning it for the specific task of fruit disease recognition. This approach helps leverage the learned features from the pre-trained model to improve performance on the target dataset.\n",
        "\n",
        "# Load the pre-trained InceptionResNetV2 model without the top classification layer\n",
        "base_model = InceptionResNetV2(weights='imagenet', include_top=False, input_shape=(256, 256, 3))\n",
        "\n",
        "# Add custom classification layers\n",
        "x = base_model.output\n",
        "x = GlobalAveragePooling2D()(x)\n",
        "x = Dense(1024, activation='relu')(x)\n",
        "predictions = Dense(4, activation='softmax')(x)  # Replace 4 with the number of classes in your dataset\n",
        "\n",
        "# Create the final model\n",
        "model = Model(inputs=base_model.input, outputs=predictions)\n",
        "\n",
        "# Freeze the layers of the pre-trained model\n",
        "for layer in base_model.layers:\n",
        "    layer.trainable = False\n",
        "\n",
        "# Compile the model\n",
        "model.compile(optimizer='adam', loss='categorical_crossentropy', metrics=['accuracy'])\n"
      ],
      "metadata": {
        "id": "tmdzolCaeIQh"
      },
      "execution_count": null,
      "outputs": []
    },
    {
      "cell_type": "code",
      "source": [
        "# prompt: Storing Features:\n",
        "# Store the extracted features in a structured format (e.g., a NumPy array or a DataFrame) for further processing, such as feature selection and classification.\n",
        "\n",
        "import numpy as np\n",
        "import pandas as pd\n",
        "from tensorflow.keras.models import Sequential\n",
        "from tensorflow.keras.layers import Dense\n",
        "from tensorflow.keras import Model # Make sure to import the Model class\n",
        "import cv2\n",
        "from tensorflow.keras.applications.inception_resnet_v2 import preprocess_input\n",
        "\n",
        "# Example usage:\n",
        "input_dim = 10  # Replace with the actual number of input features\n",
        "output_dim = 4  # Replace with the actual number of output classes\n",
        "\n",
        "# Load the pre-trained InceptionResNetV2 model without the top classification layer\n",
        "base_model = InceptionResNetV2(weights='imagenet', include_top=False, input_shape=(256, 256, 3))\n",
        "\n",
        "# Add custom classification layers\n",
        "x = base_model.output\n",
        "x = GlobalAveragePooling2D()(x)\n",
        "x = Dense(1024, activation='relu')(x)\n",
        "predictions = Dense(4, activation='softmax')(x)  # Replace 4 with the number of classes in your dataset\n",
        "\n",
        "# Create the final model\n",
        "model = Model(inputs=base_model.input, outputs=predictions)\n",
        "\n",
        "# Initialize empty lists to store features and filenames\n",
        "features_list = []\n",
        "filenames = []\n",
        "\n",
        "# Get the output of the global average pooling layer\n",
        "feature_extractor = Model(inputs=model.input, outputs=model.layers[-2].output) # Access the second to last layer\n",
        "\n",
        "# Iterate through the images and extract features\n",
        "for filename in os.listdir(data_dir):\n",
        "  if filename.endswith(('.JPG', '.jpeg', '.png')):\n",
        "    image_path = os.path.join(data_dir, filename)\n",
        "    img = cv2.imread(image_path)\n",
        "    img = cv2.resize(img, (256, 256))  # Resize the image to the input size of the model\n",
        "    img = preprocess_input(img)  # Preprocess the image according to the model's requirements\n",
        "    img = np.expand_dims(img, axis=0)  # Add an extra dimension for batch size\n",
        "    features = feature_extractor.predict(img)  # Extract features\n",
        "    features_list.append(features.flatten())  # Flatten the features and append to the list\n",
        "    filenames.append(filename)\n",
        "\n",
        "# Convert the features list to a NumPy array\n",
        "features_array = np.array(features_list)\n",
        "\n",
        "# Create a DataFrame to store features and filenames\n",
        "df_features = pd.DataFrame(features_array)\n",
        "df_features['filename'] = filenames\n",
        "\n",
        "# Now you have a DataFrame with extracted features and corresponding filenames\n",
        "print(df_features)"
      ],
      "metadata": {
        "colab": {
          "base_uri": "https://localhost:8080/"
        },
        "id": "tUtB1IcKcV5m",
        "outputId": "762f17fd-afad-44e2-ec9f-cca63cdcb5f7"
      },
      "execution_count": null,
      "outputs": [
        {
          "output_type": "stream",
          "name": "stdout",
          "text": [
            "Empty DataFrame\n",
            "Columns: [0, filename]\n",
            "Index: []\n"
          ]
        }
      ]
    },
    {
      "cell_type": "code",
      "source": [
        "# prompt: Feature Extraction Process:\n",
        "# Forward Pass: Pass the preprocessed images through the modified Inception-ResNet-V2 model. During this process, the model will output feature maps from various layers.\n",
        "\n",
        "import numpy as np\n",
        "# Assuming you have your preprocessed images loaded into a directory\n",
        "# and the model is defined as 'model'\n",
        "\n",
        "# Get the feature extractor (remove the classification layers)\n",
        "feature_extractor = Model(inputs=model.input, outputs=model.layers[-2].output)  # Get the output of the second to last layer\n",
        "\n",
        "# Iterate through the images and extract features\n",
        "for filename in os.listdir(data_dir):\n",
        "  if filename.endswith(('.JPG', '.jpeg', '.png')):\n",
        "    image_path = os.path.join(data_dir, filename)\n",
        "    img = cv2.imread(image_path)\n",
        "    img = cv2.resize(img, (256, 256))  # Resize the image to the input size of the model\n",
        "    img = preprocess_input(img)  # Preprocess the image according to the model's requirements\n",
        "    img = np.expand_dims(img, axis=0)  # Add an extra dimension for batch size\n",
        "    features = feature_extractor.predict(img)  # Extract features\n",
        "\n",
        "    # Do something with the features (e.g., save them to a file, use them for clustering)\n",
        "    # ...\n"
      ],
      "metadata": {
        "id": "IKNT0-GlaWz5"
      },
      "execution_count": null,
      "outputs": []
    },
    {
      "cell_type": "code",
      "source": [
        "# prompt: Trilayered Neural Network\n",
        "\n",
        "from tensorflow.keras.models import Sequential\n",
        "from tensorflow.keras.layers import Dense\n",
        "\n",
        "def create_trilayer_nn(input_dim, output_dim):\n",
        "  \"\"\"\n",
        "  Creates a tri-layered neural network model.\n",
        "\n",
        "  Args:\n",
        "    input_dim: Number of input features.\n",
        "    output_dim: Number of output classes.\n",
        "\n",
        "  Returns:\n",
        "    A Keras Sequential model.\n",
        "  \"\"\"\n",
        "  model = Sequential()\n",
        "  model.add(Dense(128, activation='relu', input_dim=input_dim))\n",
        "  model.add(Dense(64, activation='relu'))\n",
        "  model.add(Dense(output_dim, activation='softmax'))\n",
        "  return model\n",
        "\n",
        "# Example usage:\n",
        "input_dim = 10  # Replace with the actual number of input features\n",
        "output_dim = 4  # Replace with the actual number of output classes\n",
        "model = create_trilayer_nn(input_dim, output_dim)\n",
        "\n",
        "# Compile the model\n",
        "model.compile(optimizer='adam', loss='categorical_crossentropy', metrics=['accuracy'])\n"
      ],
      "metadata": {
        "colab": {
          "base_uri": "https://localhost:8080/"
        },
        "id": "5YgLz6gwemEo",
        "outputId": "d5dbd3ae-04e8-4eb1-c8c0-2369c07a055a"
      },
      "execution_count": null,
      "outputs": [
        {
          "output_type": "stream",
          "name": "stderr",
          "text": [
            "/usr/local/lib/python3.10/dist-packages/keras/src/layers/core/dense.py:87: UserWarning: Do not pass an `input_shape`/`input_dim` argument to a layer. When using Sequential models, prefer using an `Input(shape)` object as the first layer in the model instead.\n",
            "  super().__init__(activity_regularizer=activity_regularizer, **kwargs)\n"
          ]
        }
      ]
    },
    {
      "cell_type": "code",
      "source": [
        "# prompt: Bilayered Neural Network\n",
        "\n",
        "from tensorflow.keras.models import Sequential\n",
        "from tensorflow.keras.layers import Dense\n",
        "\n",
        "def create_bilayer_nn(input_dim, output_dim):\n",
        "  \"\"\"\n",
        "  Creates a bi-layered neural network model.\n",
        "\n",
        "  Args:\n",
        "    input_dim: Number of input features.\n",
        "    output_dim: Number of output classes.\n",
        "\n",
        "  Returns:\n",
        "    A Keras Sequential model.\n",
        "  \"\"\"\n",
        "  model = Sequential()\n",
        "  model.add(Dense(64, activation='relu', input_dim=input_dim))\n",
        "  model.add(Dense(output_dim, activation='softmax'))\n",
        "  return model\n",
        "\n",
        "# Example usage:\n",
        "input_dim = 10  # Replace with the actual number of input features\n",
        "output_dim = 4  # Replace with the actual number of output classes\n",
        "model = create_bilayer_nn(input_dim, output_dim)\n",
        "\n",
        "# Compile the model\n",
        "model.compile(optimizer='adam', loss='categorical_crossentropy', metrics=['accuracy'])\n"
      ],
      "metadata": {
        "id": "Aa9KeOg3ewz0"
      },
      "execution_count": null,
      "outputs": []
    },
    {
      "cell_type": "code",
      "source": [
        "# prompt: Wide Neural Network\n",
        "\n",
        "from tensorflow.keras.models import Sequential\n",
        "from tensorflow.keras.layers import Dense\n",
        "\n",
        "def create_wide_nn(input_dim, output_dim):\n",
        "  \"\"\"\n",
        "  Creates a wide neural network model with multiple layers.\n",
        "\n",
        "  Args:\n",
        "    input_dim: Number of input features.\n",
        "    output_dim: Number of output classes.\n",
        "\n",
        "  Returns:\n",
        "    A Keras Sequential model.\n",
        "  \"\"\"\n",
        "  model = Sequential()\n",
        "  model.add(Dense(512, activation='relu', input_dim=input_dim))\n",
        "  model.add(Dense(256, activation='relu'))\n",
        "  model.add(Dense(128, activation='relu'))\n",
        "  model.add(Dense(output_dim, activation='softmax'))\n",
        "  return model\n",
        "\n",
        "# Example usage:\n",
        "input_dim = 10  # Replace with the actual number of input features\n",
        "output_dim = 4  # Replace with the actual number of output classes\n",
        "model = create_wide_nn(input_dim, output_dim)\n",
        "\n",
        "# Compile the model\n",
        "model.compile(optimizer='adam', loss='categorical_crossentropy', metrics=['accuracy'])\n"
      ],
      "metadata": {
        "id": "oK1q6Mo_e4EW"
      },
      "execution_count": null,
      "outputs": []
    },
    {
      "cell_type": "code",
      "source": [
        "# prompt: Medium Neural Network\n",
        "\n",
        "def create_medium_nn(input_dim, output_dim):\n",
        "  \"\"\"\n",
        "  Creates a medium-sized neural network model.\n",
        "\n",
        "  Args:\n",
        "    input_dim: Number of input features.\n",
        "    output_dim: Number of output classes.\n",
        "\n",
        "  Returns:\n",
        "    A Keras Sequential model.\n",
        "  \"\"\"\n",
        "  model = Sequential()\n",
        "  model.add(Dense(256, activation='relu', input_dim=input_dim))\n",
        "  model.add(Dense(128, activation='relu'))\n",
        "  model.add(Dense(64, activation='relu'))\n",
        "  model.add(Dense(output_dim, activation='softmax'))\n",
        "  return model\n",
        "\n",
        "# Example usage:\n",
        "input_dim = 10  # Replace with the actual number of input features\n",
        "output_dim = 4  # Replace with the actual number of output classes\n",
        "model = create_medium_nn(input_dim, output_dim)\n",
        "\n",
        "# Compile the model\n",
        "model.compile(optimizer='adam', loss='categorical_crossentropy', metrics=['accuracy'])\n"
      ],
      "metadata": {
        "id": "VM90_3xofAaL"
      },
      "execution_count": null,
      "outputs": []
    },
    {
      "cell_type": "code",
      "source": [
        "# prompt: Extracting Deep Features:\n",
        "\n",
        "import numpy as np\n",
        "# Assuming you have your preprocessed images loaded into a directory\n",
        "# and the model is defined as 'model'\n",
        "\n",
        "# Get the feature extractor (remove the classification\n",
        "\n",
        "# Iterate through the images and extract features\n",
        "for filename in os.listdir(data_dir):\n",
        "  if filename.endswith(('.JPG', '.jpeg', '.png')):\n",
        "    image_path = os.path.join(data_dir, filename)\n",
        "    img = cv2.imread(image_path)\n",
        "    img = cv2.resize(img, (256, 256))  # Resize the image to the input size of the model\n",
        "    img = preprocess_input(img)  # Preprocess the image according to the model's requirements\n",
        "    img = np.expand_dims(img, axis=0)  # Add an extra dimension for batch size\n",
        "    features = feature_extractor.predict(img)  # Extract features\n",
        "\n",
        "    # Do something with the features (e.g., save them to a file, use them for clustering)\n",
        "    # ...\n"
      ],
      "metadata": {
        "id": "PWAtnDikavGA"
      },
      "execution_count": null,
      "outputs": []
    },
    {
      "cell_type": "code",
      "source": [
        "# prompt: Feature Extraction:\n",
        "# Before selecting features, you need to extract them from the images using a deep learning model. In this project, the Inception-ResNet-V2 model is used for feature extraction.\n",
        "# After fine-tuning the model, use the global average pooling layer to extract deep features from the images. This will yield a feature vector for each image.\n",
        "\n",
        "import numpy as np\n",
        "# Get the output of the global average pooling layer\n",
        "\n",
        "\n",
        "# Iterate through the images and extract features\n",
        "for filename in os.listdir(data_dir):\n",
        "  if filename.endswith(('.JPG', '.jpeg', '.png')):\n",
        "    image_path = os.path.join(data_dir, filename)\n",
        "    img = cv2.imread(image_path)\n",
        "    img = cv2.resize(img, (256, 256))  # Resize the image to the input size of the model\n",
        "    img = preprocess_input(img)  # Preprocess the image according to the model's requirements\n",
        "    img = np.expand_dims(img, axis=0)  # Add an extra dimension for batch size\n",
        "    features = feature_extractor.predict(img)  # Extract features\n",
        "\n",
        "    # Do something with the features (e.g., save them to a file, use them for clustering)\n",
        "    # ...\n"
      ],
      "metadata": {
        "id": "i10_zf7YhjT3"
      },
      "execution_count": null,
      "outputs": []
    },
    {
      "cell_type": "code",
      "source": [
        "# prompt: Initial Feature Set:\n",
        "# Collect all the extracted features into a dataset. Each image will have a corresponding feature vector, which can be stored in a matrix format where rows represent images and columns represent features.\n",
        "\n",
        "import pandas as pd\n",
        "import numpy as np\n",
        "# Initialize empty lists to store features and filenames\n",
        "features_list = []\n",
        "filenames = []\n",
        "\n",
        "# Get the output of the global average pooling layer\n",
        "\n",
        "\n",
        "# Iterate through the images and extract features\n",
        "for filename in os.listdir(data_dir):\n",
        "  if filename.endswith(('.JPG', '.jpeg', '.png')):\n",
        "    image_path = os.path.join(data_dir, filename)\n",
        "    img = cv2.imread(image_path)\n",
        "    img = cv2.resize(img, (256, 256))  # Resize the image to the input size of the model\n",
        "    img = preprocess_input(img)  # Preprocess the image according to the model's requirements\n",
        "    img = np.expand_dims(img, axis=0)  # Add an extra dimension for batch size\n",
        "    features = feature_extractor.predict(img)  # Extract features\n",
        "    features_list.append(features.flatten())  # Flatten the features and append to the list\n",
        "    filenames.append(filename)\n",
        "\n",
        "# Convert the features list to a NumPy array\n",
        "features_array = np.array(features_list)\n",
        "\n",
        "# Create a DataFrame to store features and filenames\n",
        "df_features = pd.DataFrame(features_array)\n",
        "df_features['filename'] = filenames\n",
        "\n",
        "# Now you have a DataFrame with extracted features and corresponding filenames\n",
        "print(df_features)\n"
      ],
      "metadata": {
        "colab": {
          "base_uri": "https://localhost:8080/"
        },
        "id": "_CeLpkNxmNnZ",
        "outputId": "1cc21737-d310-441e-bf1f-cce2485c2f87"
      },
      "execution_count": null,
      "outputs": [
        {
          "output_type": "stream",
          "name": "stdout",
          "text": [
            "Empty DataFrame\n",
            "Columns: [0, filename]\n",
            "Index: []\n"
          ]
        }
      ]
    },
    {
      "cell_type": "code",
      "source": [
        "# prompt: Entropy-Based Selection: This technique is used to identify the most relevant features from the extracted deep features.\n",
        "\n",
        "from scipy.stats import entropy\n",
        "\n",
        "def entropy_based_selection(df_features, num_features=10):\n",
        "  \"\"\"\n",
        "  Selects the most relevant features based on entropy.\n",
        "\n",
        "  Args:\n",
        "    df_features: DataFrame containing extracted features and filenames.\n",
        "    num_features: Number of features to select (default 10).\n",
        "  \"\"\"\n",
        "  # Calculate entropy for each feature\n",
        "  feature_entropies = df_features.iloc[:, :-1].apply(lambda x: entropy(x.value_counts(normalize=True)), axis=0)\n",
        "\n",
        "  # Sort features by entropy in descending order\n",
        "  sorted_features = feature_entropies.sort_values(ascending=False)\n",
        "\n",
        "  # Select the top 'num_features' features\n",
        "  selected_features = sorted_features[:num_features].index.tolist()\n",
        "\n",
        "  # Return the selected features\n",
        "  return selected_features\n",
        "\n",
        "# Example usage\n",
        "selected_features = entropy_based_selection(df_features, num_features=10)\n",
        "print(\"Selected features:\", selected_features)\n"
      ],
      "metadata": {
        "colab": {
          "base_uri": "https://localhost:8080/"
        },
        "id": "UN0JdKR1oOVA",
        "outputId": "9d4744cc-7558-4e8f-9c66-3013b79028d7"
      },
      "execution_count": null,
      "outputs": [
        {
          "output_type": "stream",
          "name": "stdout",
          "text": [
            "Selected features: [0]\n"
          ]
        }
      ]
    },
    {
      "cell_type": "code",
      "source": [
        "# prompt: Tree Growth Optimization: This algorithm helps in selecting the best features by reducing redundancy and irrelevant information, thereby improving the accuracy and efficiency of the model.\n",
        "\n",
        "import numpy as np\n",
        "import pandas as pd\n",
        "from sklearn.model_selection import train_test_split\n",
        "from sklearn.tree import DecisionTreeClassifier\n",
        "from sklearn.metrics import accuracy_score\n",
        "\n",
        "def tree_growth_optimization(X, y, max_depth=5):\n",
        "  \"\"\"\n",
        "  Selects the best features using Tree Growth Optimization.\n",
        "\n",
        "  Args:\n",
        "    X: Features (e.g., images).\n",
        "    y: Labels.\n",
        "    max_depth: Maximum depth of the decision tree (default 5).\n",
        "  \"\"\"\n",
        "  # Split the data into training and testing sets\n",
        "  X_train, X_test, y_train, y_test = train_test_split(X, y, test_size=0.2, random_state=42)\n",
        "\n",
        "  # Create a decision tree classifier\n",
        "  tree = DecisionTreeClassifier(max_depth=max_depth, random_state=42)\n",
        "\n",
        "  # Fit the tree to the training data\n",
        "  tree.fit(X_train, y_train)\n",
        "\n",
        "  # Get feature importances\n",
        "  feature_importances = tree.feature_importances_\n",
        "\n",
        "  # Create a DataFrame to store feature importances\n",
        "  df_importances = pd.DataFrame({'feature': X.columns, 'importance': feature_importances})\n",
        "  df_importances = df_importances.sort_values(by='importance', ascending=False)\n",
        "\n",
        "  # Select the top features based on importance\n",
        "  selected_features = df_importances['feature'].tolist()\n",
        "\n",
        "  # Return the selected features\n",
        "  return selected_features\n",
        "\n",
        "# Example usage\n",
        "# Assuming X is your feature matrix and y is your target variable\n",
        "# selected_features = tree_growth_optimization(X, y, max_depth=5)\n",
        "# print(\"Selected features:\", selected_features)\n"
      ],
      "metadata": {
        "id": "IcI-Qvjeoesx"
      },
      "execution_count": null,
      "outputs": []
    },
    {
      "cell_type": "code",
      "source": [
        "# prompt: Feature Fusion: The selected features are fused using an efficient fusion approach to create a final feature vector that represents the input data.\n",
        "\n",
        "import numpy as np\n",
        "def feature_fusion(features_list):\n",
        "  \"\"\"\n",
        "  Fuses a list of feature vectors into a single feature vector.\n",
        "\n",
        "  Args:\n",
        "    features_list: A list of feature vectors (NumPy arrays).\n",
        "\n",
        "  Returns:\n",
        "    A fused feature vector (NumPy array).\n",
        "  \"\"\"\n",
        "  # Concatenate the feature vectors\n",
        "  fused_features = np.concatenate(features_list, axis=1)\n",
        "  return fused_features\n"
      ],
      "metadata": {
        "id": "SPws1YsCooYG"
      },
      "execution_count": null,
      "outputs": []
    },
    {
      "cell_type": "code",
      "source": [
        "# prompt: Classification: The final fused feature vector is passed to a neural network classifier for the final classification of the fruit leaf diseases.\n",
        "\n",
        "from tensorflow.keras.models import Sequential\n",
        "from tensorflow.keras.layers import Dense\n",
        "import numpy as np # Added import for numpy\n",
        "\n",
        "def create_classifier(input_shape):\n",
        "  \"\"\"\n",
        "  Creates a neural network classifier.\n",
        "\n",
        "  Args:\n",
        "    input_shape: Shape of the input feature vector.\n",
        "\n",
        "  Returns:\n",
        "    A Keras Sequential model.\n",
        "  \"\"\"\n",
        "  model = Sequential()\n",
        "  model.add(Dense(128, activation='relu', input_shape=input_shape))\n",
        "  model.add(Dense(64, activation='relu'))\n",
        "  model.add(Dense(32, activation='relu'))\n",
        "  model.add(Dense(1, activation='sigmoid'))  # Assuming binary classification, adjust for multi-class\n",
        "\n",
        "  model.compile(optimizer='adam', loss='binary_crossentropy', metrics=['accuracy'])\n",
        "  return model\n",
        "\n",
        "# Example usage:\n",
        "# Assuming 'fused_features' is the final fused feature vector\n",
        "# Creating dummy data for demonstration as 'features' variable is a numpy array\n",
        "features_list = [np.random.rand(10, 5), np.random.rand(10, 3)] # Created dummy data for demonstration\n",
        "fused_features = feature_fusion(features_list) # Call the feature_fusion function to create fused_features\n",
        "input_shape = fused_features.shape[1:]  # Get the shape of the fused features\n",
        "classifier = create_classifier(input_shape)\n",
        "\n",
        "# Create dummy labels for demonstration - Replace with your actual labels\n",
        "labels = np.random.randint(2, size=10) # Example: binary labels (0 or 1)\n",
        "\n",
        "# Train the classifier\n",
        "classifier.fit(fused_features, labels, epochs=10, batch_size=32)  # Added dummy labels for demonstration"
      ],
      "metadata": {
        "colab": {
          "base_uri": "https://localhost:8080/"
        },
        "id": "q3ciOKVCovEW",
        "outputId": "ad0e14d9-9cda-4de0-e20d-24c45c38bca1"
      },
      "execution_count": null,
      "outputs": [
        {
          "output_type": "stream",
          "name": "stdout",
          "text": [
            "Epoch 1/10\n"
          ]
        },
        {
          "output_type": "stream",
          "name": "stderr",
          "text": [
            "/usr/local/lib/python3.10/dist-packages/keras/src/layers/core/dense.py:87: UserWarning: Do not pass an `input_shape`/`input_dim` argument to a layer. When using Sequential models, prefer using an `Input(shape)` object as the first layer in the model instead.\n",
            "  super().__init__(activity_regularizer=activity_regularizer, **kwargs)\n"
          ]
        },
        {
          "output_type": "stream",
          "name": "stdout",
          "text": [
            "\u001b[1m1/1\u001b[0m \u001b[32m━━━━━━━━━━━━━━━━━━━━\u001b[0m\u001b[37m\u001b[0m \u001b[1m2s\u001b[0m 2s/step - accuracy: 0.6000 - loss: 0.6870\n",
            "Epoch 2/10\n",
            "\u001b[1m1/1\u001b[0m \u001b[32m━━━━━━━━━━━━━━━━━━━━\u001b[0m\u001b[37m\u001b[0m \u001b[1m0s\u001b[0m 148ms/step - accuracy: 0.6000 - loss: 0.6774\n",
            "Epoch 3/10\n",
            "\u001b[1m1/1\u001b[0m \u001b[32m━━━━━━━━━━━━━━━━━━━━\u001b[0m\u001b[37m\u001b[0m \u001b[1m0s\u001b[0m 31ms/step - accuracy: 0.6000 - loss: 0.6690\n",
            "Epoch 4/10\n",
            "\u001b[1m1/1\u001b[0m \u001b[32m━━━━━━━━━━━━━━━━━━━━\u001b[0m\u001b[37m\u001b[0m \u001b[1m0s\u001b[0m 33ms/step - accuracy: 0.6000 - loss: 0.6620\n",
            "Epoch 5/10\n",
            "\u001b[1m1/1\u001b[0m \u001b[32m━━━━━━━━━━━━━━━━━━━━\u001b[0m\u001b[37m\u001b[0m \u001b[1m0s\u001b[0m 57ms/step - accuracy: 0.6000 - loss: 0.6556\n",
            "Epoch 6/10\n",
            "\u001b[1m1/1\u001b[0m \u001b[32m━━━━━━━━━━━━━━━━━━━━\u001b[0m\u001b[37m\u001b[0m \u001b[1m0s\u001b[0m 55ms/step - accuracy: 0.6000 - loss: 0.6494\n",
            "Epoch 7/10\n",
            "\u001b[1m1/1\u001b[0m \u001b[32m━━━━━━━━━━━━━━━━━━━━\u001b[0m\u001b[37m\u001b[0m \u001b[1m0s\u001b[0m 59ms/step - accuracy: 0.6000 - loss: 0.6434\n",
            "Epoch 8/10\n",
            "\u001b[1m1/1\u001b[0m \u001b[32m━━━━━━━━━━━━━━━━━━━━\u001b[0m\u001b[37m\u001b[0m \u001b[1m0s\u001b[0m 30ms/step - accuracy: 0.6000 - loss: 0.6372\n",
            "Epoch 9/10\n",
            "\u001b[1m1/1\u001b[0m \u001b[32m━━━━━━━━━━━━━━━━━━━━\u001b[0m\u001b[37m\u001b[0m \u001b[1m0s\u001b[0m 30ms/step - accuracy: 0.7000 - loss: 0.6311\n",
            "Epoch 10/10\n",
            "\u001b[1m1/1\u001b[0m \u001b[32m━━━━━━━━━━━━━━━━━━━━\u001b[0m\u001b[37m\u001b[0m \u001b[1m0s\u001b[0m 31ms/step - accuracy: 0.7000 - loss: 0.6252\n"
          ]
        },
        {
          "output_type": "execute_result",
          "data": {
            "text/plain": [
              "<keras.src.callbacks.history.History at 0x78d0b53ca830>"
            ]
          },
          "metadata": {},
          "execution_count": 51
        }
      ]
    },
    {
      "cell_type": "code",
      "source": [
        "from tensorflow.keras.models import Sequential\n",
        "from tensorflow.keras.layers import Dense\n",
        "import numpy as np\n",
        "\n",
        "def create_classifier(input_shape):\n",
        "    \"\"\"\n",
        "    Creates a neural network classifier.\n",
        "\n",
        "    Args:\n",
        "      input_shape: Shape of the input feature vector.\n",
        "\n",
        "    Returns:\n",
        "      A Keras Sequential model.\n",
        "    \"\"\"\n",
        "    model = Sequential()\n",
        "    # Changed input shape to (10,)\n",
        "    model.add(Dense(128, activation='relu', input_shape=(10,)))\n",
        "    model.add(Dense(64, activation='relu'))\n",
        "    model.add(Dense(32, activation='relu'))\n",
        "    model.add(Dense(1, activation='sigmoid'))\n",
        "\n",
        "    model.compile(optimizer='adam', loss='binary_crossentropy', metrics=['accuracy'])\n",
        "    return model"
      ],
      "metadata": {
        "id": "2eUzlAvVp4Z-"
      },
      "execution_count": null,
      "outputs": []
    },
    {
      "cell_type": "code",
      "source": [
        "# Import necessary libraries\n",
        "from tensorflow.keras.models import Sequential\n",
        "from tensorflow.keras.layers import Dense\n",
        "import numpy as np\n",
        "\n",
        "def create_classifier(input_shape):\n",
        "    \"\"\"\n",
        "    Creates a neural network classifier.\n",
        "\n",
        "    Args:\n",
        "        input_shape: Shape of the input feature vector.\n",
        "\n",
        "    Returns:\n",
        "        A Keras Sequential model.\n",
        "    \"\"\"\n",
        "    model = Sequential()\n",
        "    model.add(Dense(128, activation='relu', input_shape=input_shape))\n",
        "    model.add(Dense(64, activation='relu'))\n",
        "    model.add(Dense(32, activation='relu'))\n",
        "    model.add(Dense(1, activation='sigmoid'))  # Assuming binary classification, adjust for multi-class\n",
        "\n",
        "    model.compile(optimizer='adam', loss='binary_crossentropy', metrics=['accuracy'])\n",
        "    return model\n",
        "\n",
        "# Dummy feature fusion function for demonstration purposes\n",
        "def feature_fusion(features_list):\n",
        "    \"\"\"\n",
        "    Fuses features from multiple inputs by concatenating them along the last axis.\n",
        "\n",
        "    Args:\n",
        "        features_list: List of feature arrays to fuse.\n",
        "\n",
        "    Returns:\n",
        "        Fused feature array.\n",
        "    \"\"\"\n",
        "    return np.concatenate(features_list, axis=1)\n",
        "\n",
        "# Create dummy data for demonstration\n",
        "features_list = [np.random.rand(10, 5), np.random.rand(10, 3)]  # Replace with actual features\n",
        "fused_features = feature_fusion(features_list)  # Call the feature_fusion function to create fused_features\n",
        "input_shape = fused_features.shape[1:]  # Get the shape of the fused features\n",
        "classifier = create_classifier(input_shape)\n",
        "\n",
        "# Create dummy labels for demonstration - Replace with your actual labels\n",
        "labels = np.random.randint(2, size=10)  # Example: binary labels (0 or 1)\n",
        "\n",
        "# Train the classifier\n",
        "classifier.fit(fused_features, labels, epochs=10, batch_size=32)  # Added dummy labels for demonstration\n",
        "\n",
        "# Evaluate the model using classifier\n",
        "loss, accuracy = classifier.evaluate(fused_features, labels)  # Evaluate with the training data and labels\n",
        "\n",
        "# Print the results\n",
        "print(\"Loss:\", loss)\n",
        "print(\"Accuracy:\", accuracy)\n",
        "\n",
        "# Compare with existing methods:\n",
        "# 1. Load results from existing methods (if available).\n",
        "# 2. Calculate metrics for existing methods (e.g., accuracy, precision, recall, F1-score).\n",
        "# 3. Compare the metrics with the proposed framework's results.\n",
        "\n",
        "# Example:\n",
        "# existing_method_accuracy = 0.85\n",
        "# print(\"Existing method accuracy:\", existing_method_accuracy)\n",
        "# print(\"Proposed framework accuracy:\", accuracy)\n",
        "\n",
        "# Further analysis:\n",
        "# - Visualize the results using plots (e.g., bar charts, line graphs).\n",
        "# - Perform statistical tests to determine if the improvements are significant.\n",
        "\n",
        "# Save the model to an .h5 file\n",
        "classifier.save(\"classifier_model.h5\")\n"
      ],
      "metadata": {
        "id": "iU4WB8HDqd_q",
        "colab": {
          "base_uri": "https://localhost:8080/"
        },
        "outputId": "817d446a-e056-4b2d-d43a-9e3ba55f5753"
      },
      "execution_count": null,
      "outputs": [
        {
          "output_type": "stream",
          "name": "stdout",
          "text": [
            "Epoch 1/10\n",
            "\u001b[1m1/1\u001b[0m \u001b[32m━━━━━━━━━━━━━━━━━━━━\u001b[0m\u001b[37m\u001b[0m \u001b[1m1s\u001b[0m 1s/step - accuracy: 0.5000 - loss: 0.6917\n",
            "Epoch 2/10\n",
            "\u001b[1m1/1\u001b[0m \u001b[32m━━━━━━━━━━━━━━━━━━━━\u001b[0m\u001b[37m\u001b[0m \u001b[1m0s\u001b[0m 28ms/step - accuracy: 0.7000 - loss: 0.6843\n",
            "Epoch 3/10\n",
            "\u001b[1m1/1\u001b[0m \u001b[32m━━━━━━━━━━━━━━━━━━━━\u001b[0m\u001b[37m\u001b[0m \u001b[1m0s\u001b[0m 29ms/step - accuracy: 0.7000 - loss: 0.6788\n",
            "Epoch 4/10\n",
            "\u001b[1m1/1\u001b[0m \u001b[32m━━━━━━━━━━━━━━━━━━━━\u001b[0m\u001b[37m\u001b[0m \u001b[1m0s\u001b[0m 32ms/step - accuracy: 0.8000 - loss: 0.6732\n",
            "Epoch 5/10\n",
            "\u001b[1m1/1\u001b[0m \u001b[32m━━━━━━━━━━━━━━━━━━━━\u001b[0m\u001b[37m\u001b[0m \u001b[1m0s\u001b[0m 30ms/step - accuracy: 0.9000 - loss: 0.6678\n",
            "Epoch 6/10\n",
            "\u001b[1m1/1\u001b[0m \u001b[32m━━━━━━━━━━━━━━━━━━━━\u001b[0m\u001b[37m\u001b[0m \u001b[1m0s\u001b[0m 28ms/step - accuracy: 0.9000 - loss: 0.6628\n",
            "Epoch 7/10\n",
            "\u001b[1m1/1\u001b[0m \u001b[32m━━━━━━━━━━━━━━━━━━━━\u001b[0m\u001b[37m\u001b[0m \u001b[1m0s\u001b[0m 29ms/step - accuracy: 0.9000 - loss: 0.6579\n",
            "Epoch 8/10\n",
            "\u001b[1m1/1\u001b[0m \u001b[32m━━━━━━━━━━━━━━━━━━━━\u001b[0m\u001b[37m\u001b[0m \u001b[1m0s\u001b[0m 28ms/step - accuracy: 0.9000 - loss: 0.6526\n",
            "Epoch 9/10\n",
            "\u001b[1m1/1\u001b[0m \u001b[32m━━━━━━━━━━━━━━━━━━━━\u001b[0m\u001b[37m\u001b[0m \u001b[1m0s\u001b[0m 59ms/step - accuracy: 0.9000 - loss: 0.6473\n",
            "Epoch 10/10\n",
            "\u001b[1m1/1\u001b[0m \u001b[32m━━━━━━━━━━━━━━━━━━━━\u001b[0m\u001b[37m\u001b[0m \u001b[1m0s\u001b[0m 57ms/step - accuracy: 0.8000 - loss: 0.6423\n",
            "\u001b[1m1/1\u001b[0m \u001b[32m━━━━━━━━━━━━━━━━━━━━\u001b[0m\u001b[37m\u001b[0m \u001b[1m0s\u001b[0m 149ms/step - accuracy: 0.8000 - loss: 0.6375\n"
          ]
        },
        {
          "output_type": "stream",
          "name": "stderr",
          "text": [
            "WARNING:absl:You are saving your model as an HDF5 file via `model.save()` or `keras.saving.save_model(model)`. This file format is considered legacy. We recommend using instead the native Keras format, e.g. `model.save('my_model.keras')` or `keras.saving.save_model(model, 'my_model.keras')`. \n"
          ]
        },
        {
          "output_type": "stream",
          "name": "stdout",
          "text": [
            "Loss: 0.6375093460083008\n",
            "Accuracy: 0.800000011920929\n"
          ]
        }
      ]
    },
    {
      "cell_type": "code",
      "source": [
        "model.save('my_model.keras')  # Or model.save('my_model.h5')"
      ],
      "metadata": {
        "id": "_pU88UvjJsMw"
      },
      "execution_count": null,
      "outputs": []
    },
    {
      "cell_type": "code",
      "source": [
        "from google.colab import files\n",
        "files.download('classifier_model.h5')"
      ],
      "metadata": {
        "colab": {
          "base_uri": "https://localhost:8080/",
          "height": 17
        },
        "id": "6Ufp7NCr1-vJ",
        "outputId": "90f73c1e-b7d0-4c23-b722-c16af00d0138"
      },
      "execution_count": null,
      "outputs": [
        {
          "output_type": "display_data",
          "data": {
            "text/plain": [
              "<IPython.core.display.Javascript object>"
            ],
            "application/javascript": [
              "\n",
              "    async function download(id, filename, size) {\n",
              "      if (!google.colab.kernel.accessAllowed) {\n",
              "        return;\n",
              "      }\n",
              "      const div = document.createElement('div');\n",
              "      const label = document.createElement('label');\n",
              "      label.textContent = `Downloading \"${filename}\": `;\n",
              "      div.appendChild(label);\n",
              "      const progress = document.createElement('progress');\n",
              "      progress.max = size;\n",
              "      div.appendChild(progress);\n",
              "      document.body.appendChild(div);\n",
              "\n",
              "      const buffers = [];\n",
              "      let downloaded = 0;\n",
              "\n",
              "      const channel = await google.colab.kernel.comms.open(id);\n",
              "      // Send a message to notify the kernel that we're ready.\n",
              "      channel.send({})\n",
              "\n",
              "      for await (const message of channel.messages) {\n",
              "        // Send a message to notify the kernel that we're ready.\n",
              "        channel.send({})\n",
              "        if (message.buffers) {\n",
              "          for (const buffer of message.buffers) {\n",
              "            buffers.push(buffer);\n",
              "            downloaded += buffer.byteLength;\n",
              "            progress.value = downloaded;\n",
              "          }\n",
              "        }\n",
              "      }\n",
              "      const blob = new Blob(buffers, {type: 'application/binary'});\n",
              "      const a = document.createElement('a');\n",
              "      a.href = window.URL.createObjectURL(blob);\n",
              "      a.download = filename;\n",
              "      div.appendChild(a);\n",
              "      a.click();\n",
              "      div.remove();\n",
              "    }\n",
              "  "
            ]
          },
          "metadata": {}
        },
        {
          "output_type": "display_data",
          "data": {
            "text/plain": [
              "<IPython.core.display.Javascript object>"
            ],
            "application/javascript": [
              "download(\"download_9cefbd96-8cc7-47ce-8305-7484724ac32a\", \"classifier_model.h5\", 175040)"
            ]
          },
          "metadata": {}
        }
      ]
    },
    {
      "cell_type": "code",
      "source": [
        "import numpy as np\n",
        "import tensorflow as tf\n",
        "from tensorflow.keras.preprocessing.image import ImageDataGenerator # Use tensorflow.keras.preprocessing.image to import ImageDataGenerator\n",
        "import matplotlib.pyplot as plt"
      ],
      "metadata": {
        "id": "ZBgJ7P9JAQZu"
      },
      "execution_count": null,
      "outputs": []
    },
    {
      "cell_type": "code",
      "source": [
        "validation_set = tf.keras.utils.image_dataset_from_directory(\n",
        "    '/content/drive/MyDrive/DatasetApplegrape',\n",
        "    labels=\"inferred\",\n",
        "    label_mode=\"categorical\",\n",
        "    class_names=None,\n",
        "    color_mode=\"rgb\",\n",
        "    batch_size=32,\n",
        "    image_size=(256, 256),\n",
        "    shuffle=True,\n",
        "    seed=None,\n",
        "    validation_split=None,\n",
        "    subset=None,\n",
        "    interpolation=\"bilinear\",\n",
        "    follow_links=False,\n",
        "    crop_to_aspect_ratio=False\n",
        ")\n",
        "class_name = validation_set.class_names\n",
        "print(class_name)"
      ],
      "metadata": {
        "colab": {
          "base_uri": "https://localhost:8080/"
        },
        "id": "hyAcG9XqAhbu",
        "outputId": "16bf41bc-0f28-47af-b7ea-9ccf21338f30"
      },
      "execution_count": null,
      "outputs": [
        {
          "output_type": "stream",
          "name": "stdout",
          "text": [
            "Found 23777 files belonging to 2 classes.\n",
            "['Apple Dataset', 'Grape Dataset']\n"
          ]
        }
      ]
    },
    {
      "cell_type": "code",
      "source": [
        "# prompt: Loading Model and identify my model in my dataset\n",
        "\n",
        "import numpy as np\n",
        "from tensorflow.keras.models import load_model\n",
        "\n",
        "# Load the saved model\n",
        "model = load_model('/content/drive/MyDrive/DatasetApplegrape/Apple Dataset')  # Replace with the actual path to your saved model\n",
        "\n",
        "# Assuming you have your test data in a directory\n",
        "test_data_dir = '/content/drive/MyDrive/DatasetApplegrape'  # Replace with the actual path to your test data directory\n",
        "\n",
        "# Create an ImageDataGenerator for test data\n",
        "test_datagen = ImageDataGenerator(preprocessing_function=preprocess_input)\n",
        "\n",
        "# Create a test data generator\n",
        "test_generator = test_datagen.flow_from_directory(\n",
        "    test_data_dir,\n",
        "    target_size=(256, 256),\n",
        "    batch_size=32,\n",
        "    class_mode='categorical',\n",
        "    shuffle=False\n",
        ")\n",
        "\n",
        "# Get the predicted labels\n",
        "predictions = model.predict(test_generator)\n",
        "\n",
        "# Get the class with the highest probability for each prediction\n",
        "predicted_classes = np.argmax(predictions, axis=1)\n",
        "\n",
        "# Get the true labels\n",
        "true_labels = test_generator.classes\n",
        "\n",
        "# Print the predicted and true labels\n",
        "print(\"Predicted labels:\", predicted_classes)\n",
        "print(\"True labels:\", true_labels)\n",
        "\n",
        "# Calculate accuracy\n",
        "accuracy = accuracy_score(true_labels, predicted_classes)\n",
        "print(\"Accuracy:\", accuracy)\n"
      ],
      "metadata": {
        "colab": {
          "base_uri": "https://localhost:8080/",
          "height": 460
        },
        "id": "kah3FlAkBZWs",
        "outputId": "201a9e72-e6f3-4a6d-d002-2c19b67e26d7"
      },
      "execution_count": null,
      "outputs": [
        {
          "output_type": "error",
          "ename": "OSError",
          "evalue": "SavedModel file does not exist at: /content/drive/MyDrive/DatasetApplegrape/Apple Dataset/{saved_model.pbtxt|saved_model.pb}",
          "traceback": [
            "\u001b[0;31m---------------------------------------------------------------------------\u001b[0m",
            "\u001b[0;31mOSError\u001b[0m                                   Traceback (most recent call last)",
            "\u001b[0;32m<ipython-input-15-87b5a9ce7aac>\u001b[0m in \u001b[0;36m<cell line: 7>\u001b[0;34m()\u001b[0m\n\u001b[1;32m      5\u001b[0m \u001b[0;34m\u001b[0m\u001b[0m\n\u001b[1;32m      6\u001b[0m \u001b[0;31m# Load the saved model\u001b[0m\u001b[0;34m\u001b[0m\u001b[0;34m\u001b[0m\u001b[0m\n\u001b[0;32m----> 7\u001b[0;31m \u001b[0mmodel\u001b[0m \u001b[0;34m=\u001b[0m \u001b[0mload_model\u001b[0m\u001b[0;34m(\u001b[0m\u001b[0;34m'/content/drive/MyDrive/DatasetApplegrape/Apple Dataset'\u001b[0m\u001b[0;34m)\u001b[0m  \u001b[0;31m# Replace with the actual path to your saved model\u001b[0m\u001b[0;34m\u001b[0m\u001b[0;34m\u001b[0m\u001b[0m\n\u001b[0m\u001b[1;32m      8\u001b[0m \u001b[0;34m\u001b[0m\u001b[0m\n\u001b[1;32m      9\u001b[0m \u001b[0;31m# Assuming you have your test data in a directory\u001b[0m\u001b[0;34m\u001b[0m\u001b[0;34m\u001b[0m\u001b[0m\n",
            "\u001b[0;32m/usr/local/lib/python3.10/dist-packages/keras/src/saving/saving_api.py\u001b[0m in \u001b[0;36mload_model\u001b[0;34m(filepath, custom_objects, compile, safe_mode, **kwargs)\u001b[0m\n\u001b[1;32m    260\u001b[0m \u001b[0;34m\u001b[0m\u001b[0m\n\u001b[1;32m    261\u001b[0m     \u001b[0;31m# Legacy case.\u001b[0m\u001b[0;34m\u001b[0m\u001b[0;34m\u001b[0m\u001b[0m\n\u001b[0;32m--> 262\u001b[0;31m     return legacy_sm_saving_lib.load_model(\n\u001b[0m\u001b[1;32m    263\u001b[0m         \u001b[0mfilepath\u001b[0m\u001b[0;34m,\u001b[0m \u001b[0mcustom_objects\u001b[0m\u001b[0;34m=\u001b[0m\u001b[0mcustom_objects\u001b[0m\u001b[0;34m,\u001b[0m \u001b[0mcompile\u001b[0m\u001b[0;34m=\u001b[0m\u001b[0mcompile\u001b[0m\u001b[0;34m,\u001b[0m \u001b[0;34m**\u001b[0m\u001b[0mkwargs\u001b[0m\u001b[0;34m\u001b[0m\u001b[0;34m\u001b[0m\u001b[0m\n\u001b[1;32m    264\u001b[0m     )\n",
            "\u001b[0;32m/usr/local/lib/python3.10/dist-packages/keras/src/utils/traceback_utils.py\u001b[0m in \u001b[0;36merror_handler\u001b[0;34m(*args, **kwargs)\u001b[0m\n\u001b[1;32m     68\u001b[0m             \u001b[0;31m# To get the full stack trace, call:\u001b[0m\u001b[0;34m\u001b[0m\u001b[0;34m\u001b[0m\u001b[0m\n\u001b[1;32m     69\u001b[0m             \u001b[0;31m# `tf.debugging.disable_traceback_filtering()`\u001b[0m\u001b[0;34m\u001b[0m\u001b[0;34m\u001b[0m\u001b[0m\n\u001b[0;32m---> 70\u001b[0;31m             \u001b[0;32mraise\u001b[0m \u001b[0me\u001b[0m\u001b[0;34m.\u001b[0m\u001b[0mwith_traceback\u001b[0m\u001b[0;34m(\u001b[0m\u001b[0mfiltered_tb\u001b[0m\u001b[0;34m)\u001b[0m \u001b[0;32mfrom\u001b[0m \u001b[0;32mNone\u001b[0m\u001b[0;34m\u001b[0m\u001b[0;34m\u001b[0m\u001b[0m\n\u001b[0m\u001b[1;32m     71\u001b[0m         \u001b[0;32mfinally\u001b[0m\u001b[0;34m:\u001b[0m\u001b[0;34m\u001b[0m\u001b[0;34m\u001b[0m\u001b[0m\n\u001b[1;32m     72\u001b[0m             \u001b[0;32mdel\u001b[0m \u001b[0mfiltered_tb\u001b[0m\u001b[0;34m\u001b[0m\u001b[0;34m\u001b[0m\u001b[0m\n",
            "\u001b[0;32m/usr/local/lib/python3.10/dist-packages/tensorflow/python/saved_model/loader_impl.py\u001b[0m in \u001b[0;36mparse_saved_model\u001b[0;34m(export_dir)\u001b[0m\n\u001b[1;32m    117\u001b[0m       \u001b[0;32mraise\u001b[0m \u001b[0mIOError\u001b[0m\u001b[0;34m(\u001b[0m\u001b[0;34mf\"Cannot parse file {path_to_pbtxt}: {str(e)}.\"\u001b[0m\u001b[0;34m)\u001b[0m \u001b[0;32mfrom\u001b[0m \u001b[0me\u001b[0m\u001b[0;34m\u001b[0m\u001b[0;34m\u001b[0m\u001b[0m\n\u001b[1;32m    118\u001b[0m   \u001b[0;32melse\u001b[0m\u001b[0;34m:\u001b[0m\u001b[0;34m\u001b[0m\u001b[0;34m\u001b[0m\u001b[0m\n\u001b[0;32m--> 119\u001b[0;31m     raise IOError(\n\u001b[0m\u001b[1;32m    120\u001b[0m         \u001b[0;34mf\"SavedModel file does not exist at: {export_dir}{os.path.sep}\"\u001b[0m\u001b[0;34m\u001b[0m\u001b[0;34m\u001b[0m\u001b[0m\n\u001b[1;32m    121\u001b[0m         \u001b[0;34mf\"{{{constants.SAVED_MODEL_FILENAME_PBTXT}|\"\u001b[0m\u001b[0;34m\u001b[0m\u001b[0;34m\u001b[0m\u001b[0m\n",
            "\u001b[0;31mOSError\u001b[0m: SavedModel file does not exist at: /content/drive/MyDrive/DatasetApplegrape/Apple Dataset/{saved_model.pbtxt|saved_model.pb}"
          ]
        }
      ]
    },
    {
      "cell_type": "code",
      "source": [
        "# prompt: run the epochs in my model\n",
        "\n",
        "# Assuming you have your training data and model defined\n",
        "\n",
        "# Train the model\n",
        "history = model.fit(\n",
        "    train_generator,\n",
        "    epochs=10,  # Replace with the desired number of epochs\n",
        "    validation_data=validation_generator  # If you have validation data\n",
        ")\n"
      ],
      "metadata": {
        "colab": {
          "base_uri": "https://localhost:8080/",
          "height": 211
        },
        "id": "JgxtUgOnLLWz",
        "outputId": "0f55ce71-232c-41c8-f086-ab206356d5c5"
      },
      "execution_count": null,
      "outputs": [
        {
          "output_type": "error",
          "ename": "NameError",
          "evalue": "name 'model' is not defined",
          "traceback": [
            "\u001b[0;31m---------------------------------------------------------------------------\u001b[0m",
            "\u001b[0;31mNameError\u001b[0m                                 Traceback (most recent call last)",
            "\u001b[0;32m<ipython-input-17-84a7553825eb>\u001b[0m in \u001b[0;36m<cell line: 6>\u001b[0;34m()\u001b[0m\n\u001b[1;32m      4\u001b[0m \u001b[0;34m\u001b[0m\u001b[0m\n\u001b[1;32m      5\u001b[0m \u001b[0;31m# Train the model\u001b[0m\u001b[0;34m\u001b[0m\u001b[0;34m\u001b[0m\u001b[0m\n\u001b[0;32m----> 6\u001b[0;31m history = model.fit(\n\u001b[0m\u001b[1;32m      7\u001b[0m     \u001b[0mtrain_generator\u001b[0m\u001b[0;34m,\u001b[0m\u001b[0;34m\u001b[0m\u001b[0;34m\u001b[0m\u001b[0m\n\u001b[1;32m      8\u001b[0m     \u001b[0mepochs\u001b[0m\u001b[0;34m=\u001b[0m\u001b[0;36m10\u001b[0m\u001b[0;34m,\u001b[0m  \u001b[0;31m# Replace with the desired number of epochs\u001b[0m\u001b[0;34m\u001b[0m\u001b[0;34m\u001b[0m\u001b[0m\n",
            "\u001b[0;31mNameError\u001b[0m: name 'model' is not defined"
          ]
        }
      ]
    },
    {
      "cell_type": "code",
      "source": [
        "# prompt: Inception-ResNet-V2 model\n",
        "\n",
        "# Import the necessary module\n",
        "from tensorflow.keras.applications.inception_resnet_v2 import InceptionResNetV2\n",
        "\n",
        "# Load the InceptionResNetV2 model without the top classification layer\n",
        "base_model = InceptionResNetV2(weights='imagenet', include_top=False, input_shape=(256, 256, 3))\n",
        "\n",
        "# Add custom classification layers\n",
        "x = base_model.output\n",
        "x = Dense(1024, activation='relu')(x)\n",
        "predictions = Dense(2, activation='softmax')(x)  # Assuming 2 classes\n",
        "\n",
        "# Create the final model\n",
        "model = Model(inputs=base_model.input, outputs=predictions)\n",
        "\n",
        "# Freeze the base model layers\n",
        "for layer in base_model.layers:\n",
        "  layer.trainable = False\n",
        "\n",
        "# Compile the model\n",
        "model.compile(optimizer='adam', loss='categorical_crossentropy', metrics=['accuracy'])\n",
        "print(model.compile)"
      ],
      "metadata": {
        "colab": {
          "base_uri": "https://localhost:8080/"
        },
        "id": "d4W3C4ONPCt6",
        "outputId": "6f6711bd-922f-4e32-8fe7-d8cef5989370"
      },
      "execution_count": null,
      "outputs": [
        {
          "output_type": "stream",
          "name": "stdout",
          "text": [
            "<bound method Model.compile of <keras.src.engine.functional.Functional object at 0x7a37b2b30dc0>>\n"
          ]
        }
      ]
    },
    {
      "cell_type": "code",
      "source": [
        "# prompt: training and testing accuracy graph\n",
        "\n",
        "import matplotlib.pyplot as plt\n",
        "\n",
        "# Assuming 'history' is the object returned by model.fit()\n",
        "\n",
        "# Check if history exists and has the 'accuracy' key\n",
        "if 'history' in locals() and 'accuracy' in history.history:\n",
        "    # Plot training & validation accuracy values\n",
        "    plt.plot(history.history['accuracy'])\n",
        "    plt.plot(history.history['val_accuracy'])\n",
        "    plt.title('Model accuracy')\n",
        "    plt.ylabel('Accuracy')\n",
        "    plt.xlabel('Epoch')\n",
        "    plt.legend(['Train', 'Validation'], loc='upper left')\n",
        "    plt.show()\n",
        "else:\n",
        "    print(\"History is not defined or does not contain accuracy data. Please train the model first.\")"
      ],
      "metadata": {
        "colab": {
          "base_uri": "https://localhost:8080/"
        },
        "id": "7mytx4IbYx2H",
        "outputId": "9366e23a-c33e-4c4a-b2a9-ac40bb1fdbfb"
      },
      "execution_count": null,
      "outputs": [
        {
          "output_type": "stream",
          "name": "stdout",
          "text": [
            "History is not defined or does not contain accuracy data. Please train the model first.\n"
          ]
        }
      ]
    },
    {
      "cell_type": "code",
      "source": [
        "# Import the necessary modules\n",
        "from tensorflow.keras.applications.inception_resnet_v2 import InceptionResNetV2\n",
        "from tensorflow.keras.layers import Dense\n",
        "from tensorflow.keras.models import Model\n",
        "from tensorflow.keras.preprocessing.image import ImageDataGenerator\n",
        "\n",
        "# Load the InceptionResNetV2 model without the top classification layer\n",
        "base_model = InceptionResNetV2(weights='imagenet', include_top=False, input_shape=(256, 256, 3))\n",
        "\n",
        "# Add custom classification layers\n",
        "x = base_model.output\n",
        "x = Dense(1024, activation='relu')(x)\n",
        "predictions = Dense(2, activation='softmax')(x)  # Assuming 2 classes\n",
        "\n",
        "# Create the final model\n",
        "model = Model(inputs=base_model.input, outputs=predictions)\n",
        "\n",
        "# Freeze the base model layers\n",
        "for layer in base_model.layers:\n",
        "  layer.trainable = False\n",
        "\n",
        "# Compile the model\n",
        "model.compile(optimizer='adam', loss='categorical_crossentropy', metrics=['accuracy'])\n",
        "\n",
        "# Assuming you have your training data in a directory\n",
        "train_data_dir = '/path/to/your/training/data'  # Replace with the actual path to your training data directory\n",
        "\n",
        "# Create an ImageDataGenerator for training data\n",
        "train_datagen = ImageDataGenerator(\n",
        "    preprocessing_function=preprocess_input,  # Assuming you have a preprocess_input function defined\n",
        "    # Add any data augmentation techniques here if needed\n",
        ")\n",
        "\n",
        "# Create a training data generator\n",
        "train_generator = train_datagen.flow_from_directory(\n",
        "    train_data_dir,\n",
        "    target_size=(256, 256),\n",
        "    batch_size=32,\n",
        "    class_mode='categorical'\n",
        ")\n",
        "\n",
        "# Assuming you have your validation data in a directory\n",
        "validation_data_dir = '/content/drive/MyDrive/DatasetApplegrape/Apple Dataset/color/Apple___Apple_scab/train'  # Replace with the actual path to your validation data directory\n",
        "\n",
        "# Create an ImageDataGenerator for validation data\n",
        "validation_datagen = ImageDataGenerator(preprocessing_function=preprocess_input)\n",
        "\n",
        "# Create a validation data generator\n",
        "validation_generator = validation_datagen.flow_from_directory(\n",
        "    validation_data_dir,\n",
        "    target_size=(256, 256),\n",
        "    batch_size=32,\n",
        "    class_mode='categorical'\n",
        ")\n",
        "\n",
        "# Train the model\n",
        "history = model.fit(\n",
        "    train_generator,\n",
        "    epochs=10,  # Replace with the desired number of epochs\n",
        "    validation_data=validation_generator  # If you have validation data\n",
        ")"
      ],
      "metadata": {
        "colab": {
          "base_uri": "https://localhost:8080/",
          "height": 228
        },
        "id": "m7q0TszNZMTu",
        "outputId": "b1406cb1-8d2f-4e16-d7b3-0df65184a68e"
      },
      "execution_count": null,
      "outputs": [
        {
          "output_type": "error",
          "ename": "NameError",
          "evalue": "name 'preprocess_input' is not defined",
          "traceback": [
            "\u001b[0;31m---------------------------------------------------------------------------\u001b[0m",
            "\u001b[0;31mNameError\u001b[0m                                 Traceback (most recent call last)",
            "\u001b[0;32m<ipython-input-8-c03665d6d348>\u001b[0m in \u001b[0;36m<cell line: 29>\u001b[0;34m()\u001b[0m\n\u001b[1;32m     28\u001b[0m \u001b[0;31m# Create an ImageDataGenerator for training data\u001b[0m\u001b[0;34m\u001b[0m\u001b[0;34m\u001b[0m\u001b[0m\n\u001b[1;32m     29\u001b[0m train_datagen = ImageDataGenerator(\n\u001b[0;32m---> 30\u001b[0;31m     \u001b[0mpreprocessing_function\u001b[0m\u001b[0;34m=\u001b[0m\u001b[0mpreprocess_input\u001b[0m\u001b[0;34m,\u001b[0m  \u001b[0;31m# Assuming you have a preprocess_input function defined\u001b[0m\u001b[0;34m\u001b[0m\u001b[0;34m\u001b[0m\u001b[0m\n\u001b[0m\u001b[1;32m     31\u001b[0m     \u001b[0;31m# Add any data augmentation techniques here if needed\u001b[0m\u001b[0;34m\u001b[0m\u001b[0;34m\u001b[0m\u001b[0m\n\u001b[1;32m     32\u001b[0m )\n",
            "\u001b[0;31mNameError\u001b[0m: name 'preprocess_input' is not defined"
          ]
        }
      ]
    }
  ]
}